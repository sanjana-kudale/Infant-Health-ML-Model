{
 "cells": [
  {
   "cell_type": "code",
   "execution_count": 1,
   "id": "2456113f-35dd-4740-8072-7eaac95bf148",
   "metadata": {},
   "outputs": [],
   "source": [
    "import pandas as pd\n",
    "import numpy as np\n",
    "import matplotlib.pyplot as plt\n",
    "import seaborn as sns"
   ]
  },
  {
   "cell_type": "code",
   "execution_count": 2,
   "id": "639f64c8-5ea6-43e5-99c0-5fd28b5f2086",
   "metadata": {},
   "outputs": [],
   "source": [
    "df = pd.read_csv('Synthetic-Infant-Health-Data.csv')"
   ]
  },
  {
   "cell_type": "code",
   "execution_count": 3,
   "id": "d7a62e8c-33a2-4f42-9a13-0a690d1abdf0",
   "metadata": {},
   "outputs": [
    {
     "data": {
      "text/html": [
       "<div>\n",
       "<style scoped>\n",
       "    .dataframe tbody tr th:only-of-type {\n",
       "        vertical-align: middle;\n",
       "    }\n",
       "\n",
       "    .dataframe tbody tr th {\n",
       "        vertical-align: top;\n",
       "    }\n",
       "\n",
       "    .dataframe thead th {\n",
       "        text-align: right;\n",
       "    }\n",
       "</style>\n",
       "<table border=\"1\" class=\"dataframe\">\n",
       "  <thead>\n",
       "    <tr style=\"text-align: right;\">\n",
       "      <th></th>\n",
       "      <th>Unnamed: 0</th>\n",
       "      <th>BirthAsphyxia</th>\n",
       "      <th>HypDistrib</th>\n",
       "      <th>HypoxiaInO2</th>\n",
       "      <th>CO2</th>\n",
       "      <th>ChestXray</th>\n",
       "      <th>Grunting</th>\n",
       "      <th>LVHreport</th>\n",
       "      <th>LowerBodyO2</th>\n",
       "      <th>RUQO2</th>\n",
       "      <th>...</th>\n",
       "      <th>XrayReport</th>\n",
       "      <th>Disease</th>\n",
       "      <th>GruntingReport</th>\n",
       "      <th>Age</th>\n",
       "      <th>LVH</th>\n",
       "      <th>DuctFlow</th>\n",
       "      <th>CardiacMixing</th>\n",
       "      <th>LungParench</th>\n",
       "      <th>LungFlow</th>\n",
       "      <th>Sick</th>\n",
       "    </tr>\n",
       "  </thead>\n",
       "  <tbody>\n",
       "    <tr>\n",
       "      <th>0</th>\n",
       "      <td>0</td>\n",
       "      <td>no</td>\n",
       "      <td>Equal</td>\n",
       "      <td>Severe</td>\n",
       "      <td>Normal</td>\n",
       "      <td>Normal</td>\n",
       "      <td>yes</td>\n",
       "      <td>no</td>\n",
       "      <td>5-12</td>\n",
       "      <td>&lt;5</td>\n",
       "      <td>...</td>\n",
       "      <td>Asy/Patchy</td>\n",
       "      <td>TGA</td>\n",
       "      <td>no</td>\n",
       "      <td>4-10_days</td>\n",
       "      <td>no</td>\n",
       "      <td>Lt_to_Rt</td>\n",
       "      <td>Transp.</td>\n",
       "      <td>Normal</td>\n",
       "      <td>Normal</td>\n",
       "      <td>no</td>\n",
       "    </tr>\n",
       "    <tr>\n",
       "      <th>1</th>\n",
       "      <td>1</td>\n",
       "      <td>no</td>\n",
       "      <td>Equal</td>\n",
       "      <td>Moderate</td>\n",
       "      <td>High</td>\n",
       "      <td>Grd_Glass</td>\n",
       "      <td>no</td>\n",
       "      <td>no</td>\n",
       "      <td>&lt;5</td>\n",
       "      <td>5-12</td>\n",
       "      <td>...</td>\n",
       "      <td>Grd_Glass</td>\n",
       "      <td>Fallot</td>\n",
       "      <td>no</td>\n",
       "      <td>0-3_days</td>\n",
       "      <td>no</td>\n",
       "      <td>Rt_to_Lt</td>\n",
       "      <td>Mild</td>\n",
       "      <td>Abnormal</td>\n",
       "      <td>High</td>\n",
       "      <td>no</td>\n",
       "    </tr>\n",
       "    <tr>\n",
       "      <th>2</th>\n",
       "      <td>2</td>\n",
       "      <td>no</td>\n",
       "      <td>Equal</td>\n",
       "      <td>Severe</td>\n",
       "      <td>Normal</td>\n",
       "      <td>Plethoric</td>\n",
       "      <td>no</td>\n",
       "      <td>yes</td>\n",
       "      <td>5-12</td>\n",
       "      <td>5-12</td>\n",
       "      <td>...</td>\n",
       "      <td>Normal</td>\n",
       "      <td>PFC</td>\n",
       "      <td>no</td>\n",
       "      <td>0-3_days</td>\n",
       "      <td>no</td>\n",
       "      <td>Lt_to_Rt</td>\n",
       "      <td>Complete</td>\n",
       "      <td>Normal</td>\n",
       "      <td>High</td>\n",
       "      <td>no</td>\n",
       "    </tr>\n",
       "    <tr>\n",
       "      <th>3</th>\n",
       "      <td>3</td>\n",
       "      <td>no</td>\n",
       "      <td>Equal</td>\n",
       "      <td>Moderate</td>\n",
       "      <td>Normal</td>\n",
       "      <td>Plethoric</td>\n",
       "      <td>no</td>\n",
       "      <td>no</td>\n",
       "      <td>5-12</td>\n",
       "      <td>&lt;5</td>\n",
       "      <td>...</td>\n",
       "      <td>Plethoric</td>\n",
       "      <td>PAIVS</td>\n",
       "      <td>no</td>\n",
       "      <td>0-3_days</td>\n",
       "      <td>no</td>\n",
       "      <td>NaN</td>\n",
       "      <td>Complete</td>\n",
       "      <td>Normal</td>\n",
       "      <td>Low</td>\n",
       "      <td>no</td>\n",
       "    </tr>\n",
       "    <tr>\n",
       "      <th>4</th>\n",
       "      <td>4</td>\n",
       "      <td>no</td>\n",
       "      <td>Equal</td>\n",
       "      <td>Moderate</td>\n",
       "      <td>Normal</td>\n",
       "      <td>Plethoric</td>\n",
       "      <td>no</td>\n",
       "      <td>yes</td>\n",
       "      <td>12+</td>\n",
       "      <td>5-12</td>\n",
       "      <td>...</td>\n",
       "      <td>Plethoric</td>\n",
       "      <td>PAIVS</td>\n",
       "      <td>no</td>\n",
       "      <td>0-3_days</td>\n",
       "      <td>yes</td>\n",
       "      <td>Lt_to_Rt</td>\n",
       "      <td>Complete</td>\n",
       "      <td>Normal</td>\n",
       "      <td>Normal</td>\n",
       "      <td>yes</td>\n",
       "    </tr>\n",
       "    <tr>\n",
       "      <th>...</th>\n",
       "      <td>...</td>\n",
       "      <td>...</td>\n",
       "      <td>...</td>\n",
       "      <td>...</td>\n",
       "      <td>...</td>\n",
       "      <td>...</td>\n",
       "      <td>...</td>\n",
       "      <td>...</td>\n",
       "      <td>...</td>\n",
       "      <td>...</td>\n",
       "      <td>...</td>\n",
       "      <td>...</td>\n",
       "      <td>...</td>\n",
       "      <td>...</td>\n",
       "      <td>...</td>\n",
       "      <td>...</td>\n",
       "      <td>...</td>\n",
       "      <td>...</td>\n",
       "      <td>...</td>\n",
       "      <td>...</td>\n",
       "      <td>...</td>\n",
       "    </tr>\n",
       "    <tr>\n",
       "      <th>14995</th>\n",
       "      <td>14995</td>\n",
       "      <td>no</td>\n",
       "      <td>Equal</td>\n",
       "      <td>Moderate</td>\n",
       "      <td>Normal</td>\n",
       "      <td>Normal</td>\n",
       "      <td>no</td>\n",
       "      <td>no</td>\n",
       "      <td>5-12</td>\n",
       "      <td>5-12</td>\n",
       "      <td>...</td>\n",
       "      <td>Normal</td>\n",
       "      <td>PAIVS</td>\n",
       "      <td>no</td>\n",
       "      <td>0-3_days</td>\n",
       "      <td>no</td>\n",
       "      <td>Lt_to_Rt</td>\n",
       "      <td>Transp.</td>\n",
       "      <td>Normal</td>\n",
       "      <td>Normal</td>\n",
       "      <td>no</td>\n",
       "    </tr>\n",
       "    <tr>\n",
       "      <th>14996</th>\n",
       "      <td>14996</td>\n",
       "      <td>no</td>\n",
       "      <td>Equal</td>\n",
       "      <td>Moderate</td>\n",
       "      <td>Normal</td>\n",
       "      <td>Plethoric</td>\n",
       "      <td>no</td>\n",
       "      <td>yes</td>\n",
       "      <td>&lt;5</td>\n",
       "      <td>5-12</td>\n",
       "      <td>...</td>\n",
       "      <td>Plethoric</td>\n",
       "      <td>Fallot</td>\n",
       "      <td>no</td>\n",
       "      <td>0-3_days</td>\n",
       "      <td>yes</td>\n",
       "      <td>Lt_to_Rt</td>\n",
       "      <td>Complete</td>\n",
       "      <td>Abnormal</td>\n",
       "      <td>High</td>\n",
       "      <td>yes</td>\n",
       "    </tr>\n",
       "    <tr>\n",
       "      <th>14997</th>\n",
       "      <td>14997</td>\n",
       "      <td>no</td>\n",
       "      <td>Equal</td>\n",
       "      <td>Moderate</td>\n",
       "      <td>High</td>\n",
       "      <td>Normal</td>\n",
       "      <td>no</td>\n",
       "      <td>no</td>\n",
       "      <td>5-12</td>\n",
       "      <td>&lt;5</td>\n",
       "      <td>...</td>\n",
       "      <td>Normal</td>\n",
       "      <td>Fallot</td>\n",
       "      <td>yes</td>\n",
       "      <td>0-3_days</td>\n",
       "      <td>no</td>\n",
       "      <td>NaN</td>\n",
       "      <td>Complete</td>\n",
       "      <td>Normal</td>\n",
       "      <td>High</td>\n",
       "      <td>yes</td>\n",
       "    </tr>\n",
       "    <tr>\n",
       "      <th>14998</th>\n",
       "      <td>14998</td>\n",
       "      <td>no</td>\n",
       "      <td>Equal</td>\n",
       "      <td>Mild</td>\n",
       "      <td>Normal</td>\n",
       "      <td>Normal</td>\n",
       "      <td>no</td>\n",
       "      <td>no</td>\n",
       "      <td>&lt;5</td>\n",
       "      <td>&lt;5</td>\n",
       "      <td>...</td>\n",
       "      <td>Normal</td>\n",
       "      <td>TGA</td>\n",
       "      <td>no</td>\n",
       "      <td>0-3_days</td>\n",
       "      <td>no</td>\n",
       "      <td>NaN</td>\n",
       "      <td>Transp.</td>\n",
       "      <td>Normal</td>\n",
       "      <td>High</td>\n",
       "      <td>no</td>\n",
       "    </tr>\n",
       "    <tr>\n",
       "      <th>14999</th>\n",
       "      <td>14999</td>\n",
       "      <td>no</td>\n",
       "      <td>Equal</td>\n",
       "      <td>Severe</td>\n",
       "      <td>High</td>\n",
       "      <td>Normal</td>\n",
       "      <td>no</td>\n",
       "      <td>no</td>\n",
       "      <td>&lt;5</td>\n",
       "      <td>5-12</td>\n",
       "      <td>...</td>\n",
       "      <td>Normal</td>\n",
       "      <td>TGA</td>\n",
       "      <td>no</td>\n",
       "      <td>0-3_days</td>\n",
       "      <td>no</td>\n",
       "      <td>NaN</td>\n",
       "      <td>Mild</td>\n",
       "      <td>Normal</td>\n",
       "      <td>Normal</td>\n",
       "      <td>no</td>\n",
       "    </tr>\n",
       "  </tbody>\n",
       "</table>\n",
       "<p>15000 rows × 21 columns</p>\n",
       "</div>"
      ],
      "text/plain": [
       "       Unnamed: 0 BirthAsphyxia HypDistrib HypoxiaInO2     CO2  ChestXray  \\\n",
       "0               0            no      Equal      Severe  Normal     Normal   \n",
       "1               1            no      Equal    Moderate    High  Grd_Glass   \n",
       "2               2            no      Equal      Severe  Normal  Plethoric   \n",
       "3               3            no      Equal    Moderate  Normal  Plethoric   \n",
       "4               4            no      Equal    Moderate  Normal  Plethoric   \n",
       "...           ...           ...        ...         ...     ...        ...   \n",
       "14995       14995            no      Equal    Moderate  Normal     Normal   \n",
       "14996       14996            no      Equal    Moderate  Normal  Plethoric   \n",
       "14997       14997            no      Equal    Moderate    High     Normal   \n",
       "14998       14998            no      Equal        Mild  Normal     Normal   \n",
       "14999       14999            no      Equal      Severe    High     Normal   \n",
       "\n",
       "      Grunting LVHreport LowerBodyO2 RUQO2  ...  XrayReport Disease  \\\n",
       "0          yes        no        5-12    <5  ...  Asy/Patchy     TGA   \n",
       "1           no        no          <5  5-12  ...   Grd_Glass  Fallot   \n",
       "2           no       yes        5-12  5-12  ...      Normal     PFC   \n",
       "3           no        no        5-12    <5  ...   Plethoric   PAIVS   \n",
       "4           no       yes         12+  5-12  ...   Plethoric   PAIVS   \n",
       "...        ...       ...         ...   ...  ...         ...     ...   \n",
       "14995       no        no        5-12  5-12  ...      Normal   PAIVS   \n",
       "14996       no       yes          <5  5-12  ...   Plethoric  Fallot   \n",
       "14997       no        no        5-12    <5  ...      Normal  Fallot   \n",
       "14998       no        no          <5    <5  ...      Normal     TGA   \n",
       "14999       no        no          <5  5-12  ...      Normal     TGA   \n",
       "\n",
       "      GruntingReport        Age  LVH  DuctFlow CardiacMixing LungParench  \\\n",
       "0                 no  4-10_days   no  Lt_to_Rt       Transp.      Normal   \n",
       "1                 no   0-3_days   no  Rt_to_Lt          Mild    Abnormal   \n",
       "2                 no   0-3_days   no  Lt_to_Rt      Complete      Normal   \n",
       "3                 no   0-3_days   no       NaN      Complete      Normal   \n",
       "4                 no   0-3_days  yes  Lt_to_Rt      Complete      Normal   \n",
       "...              ...        ...  ...       ...           ...         ...   \n",
       "14995             no   0-3_days   no  Lt_to_Rt       Transp.      Normal   \n",
       "14996             no   0-3_days  yes  Lt_to_Rt      Complete    Abnormal   \n",
       "14997            yes   0-3_days   no       NaN      Complete      Normal   \n",
       "14998             no   0-3_days   no       NaN       Transp.      Normal   \n",
       "14999             no   0-3_days   no       NaN          Mild      Normal   \n",
       "\n",
       "      LungFlow Sick  \n",
       "0       Normal   no  \n",
       "1         High   no  \n",
       "2         High   no  \n",
       "3          Low   no  \n",
       "4       Normal  yes  \n",
       "...        ...  ...  \n",
       "14995   Normal   no  \n",
       "14996     High  yes  \n",
       "14997     High  yes  \n",
       "14998     High   no  \n",
       "14999   Normal   no  \n",
       "\n",
       "[15000 rows x 21 columns]"
      ]
     },
     "execution_count": 3,
     "metadata": {},
     "output_type": "execute_result"
    }
   ],
   "source": [
    "df"
   ]
  },
  {
   "cell_type": "code",
   "execution_count": 4,
   "id": "4ef7807e-ea48-42f9-aac8-7581b14a8955",
   "metadata": {},
   "outputs": [
    {
     "data": {
      "text/plain": [
       "Index(['Unnamed: 0', 'BirthAsphyxia', 'HypDistrib', 'HypoxiaInO2', 'CO2',\n",
       "       'ChestXray', 'Grunting', 'LVHreport', 'LowerBodyO2', 'RUQO2',\n",
       "       'CO2Report', 'XrayReport', 'Disease', 'GruntingReport', 'Age', 'LVH',\n",
       "       'DuctFlow', 'CardiacMixing', 'LungParench', 'LungFlow', 'Sick'],\n",
       "      dtype='object')"
      ]
     },
     "execution_count": 4,
     "metadata": {},
     "output_type": "execute_result"
    }
   ],
   "source": [
    "df.columns"
   ]
  },
  {
   "cell_type": "code",
   "execution_count": 5,
   "id": "ee02016d-9922-443b-842c-5af850f005d3",
   "metadata": {},
   "outputs": [
    {
     "name": "stdout",
     "output_type": "stream",
     "text": [
      "<class 'pandas.core.frame.DataFrame'>\n",
      "RangeIndex: 15000 entries, 0 to 14999\n",
      "Data columns (total 21 columns):\n",
      " #   Column          Non-Null Count  Dtype \n",
      "---  ------          --------------  ----- \n",
      " 0   Unnamed: 0      15000 non-null  int64 \n",
      " 1   BirthAsphyxia   15000 non-null  object\n",
      " 2   HypDistrib      15000 non-null  object\n",
      " 3   HypoxiaInO2     15000 non-null  object\n",
      " 4   CO2             15000 non-null  object\n",
      " 5   ChestXray       15000 non-null  object\n",
      " 6   Grunting        15000 non-null  object\n",
      " 7   LVHreport       15000 non-null  object\n",
      " 8   LowerBodyO2     15000 non-null  object\n",
      " 9   RUQO2           15000 non-null  object\n",
      " 10  CO2Report       15000 non-null  object\n",
      " 11  XrayReport      15000 non-null  object\n",
      " 12  Disease         15000 non-null  object\n",
      " 13  GruntingReport  15000 non-null  object\n",
      " 14  Age             15000 non-null  object\n",
      " 15  LVH             15000 non-null  object\n",
      " 16  DuctFlow        9311 non-null   object\n",
      " 17  CardiacMixing   14273 non-null  object\n",
      " 18  LungParench     15000 non-null  object\n",
      " 19  LungFlow        15000 non-null  object\n",
      " 20  Sick            15000 non-null  object\n",
      "dtypes: int64(1), object(20)\n",
      "memory usage: 2.4+ MB\n"
     ]
    }
   ],
   "source": [
    "df.info()"
   ]
  },
  {
   "cell_type": "code",
   "execution_count": 6,
   "id": "c2b4e424-dd50-4967-8246-6324cbccf961",
   "metadata": {},
   "outputs": [
    {
     "data": {
      "text/plain": [
       "Unnamed: 0           0\n",
       "BirthAsphyxia        0\n",
       "HypDistrib           0\n",
       "HypoxiaInO2          0\n",
       "CO2                  0\n",
       "ChestXray            0\n",
       "Grunting             0\n",
       "LVHreport            0\n",
       "LowerBodyO2          0\n",
       "RUQO2                0\n",
       "CO2Report            0\n",
       "XrayReport           0\n",
       "Disease              0\n",
       "GruntingReport       0\n",
       "Age                  0\n",
       "LVH                  0\n",
       "DuctFlow          5689\n",
       "CardiacMixing      727\n",
       "LungParench          0\n",
       "LungFlow             0\n",
       "Sick                 0\n",
       "dtype: int64"
      ]
     },
     "execution_count": 6,
     "metadata": {},
     "output_type": "execute_result"
    }
   ],
   "source": [
    "df.isnull().sum()"
   ]
  },
  {
   "cell_type": "code",
   "execution_count": 7,
   "id": "89aacbb6-e7b7-4eda-8b85-903df6d39303",
   "metadata": {},
   "outputs": [
    {
     "data": {
      "text/plain": [
       "(15000, 21)"
      ]
     },
     "execution_count": 7,
     "metadata": {},
     "output_type": "execute_result"
    }
   ],
   "source": [
    "df.shape"
   ]
  },
  {
   "cell_type": "code",
   "execution_count": 8,
   "id": "fe3c9120-1fec-44d4-82db-546dc5596be3",
   "metadata": {},
   "outputs": [],
   "source": [
    "df.columns = df.columns.str.strip()"
   ]
  },
  {
   "cell_type": "code",
   "execution_count": 9,
   "id": "1c9007ec-b587-4354-83e4-ff027e842e1b",
   "metadata": {},
   "outputs": [
    {
     "name": "stdout",
     "output_type": "stream",
     "text": [
      "<class 'pandas.core.frame.DataFrame'>\n",
      "RangeIndex: 15000 entries, 0 to 14999\n",
      "Data columns (total 21 columns):\n",
      " #   Column          Non-Null Count  Dtype \n",
      "---  ------          --------------  ----- \n",
      " 0   Unnamed: 0      15000 non-null  int64 \n",
      " 1   BirthAsphyxia   15000 non-null  object\n",
      " 2   HypDistrib      15000 non-null  object\n",
      " 3   HypoxiaInO2     15000 non-null  object\n",
      " 4   CO2             15000 non-null  object\n",
      " 5   ChestXray       15000 non-null  object\n",
      " 6   Grunting        15000 non-null  object\n",
      " 7   LVHreport       15000 non-null  object\n",
      " 8   LowerBodyO2     15000 non-null  object\n",
      " 9   RUQO2           15000 non-null  object\n",
      " 10  CO2Report       15000 non-null  object\n",
      " 11  XrayReport      15000 non-null  object\n",
      " 12  Disease         15000 non-null  object\n",
      " 13  GruntingReport  15000 non-null  object\n",
      " 14  Age             15000 non-null  object\n",
      " 15  LVH             15000 non-null  object\n",
      " 16  DuctFlow        9311 non-null   object\n",
      " 17  CardiacMixing   14273 non-null  object\n",
      " 18  LungParench     15000 non-null  object\n",
      " 19  LungFlow        15000 non-null  object\n",
      " 20  Sick            15000 non-null  object\n",
      "dtypes: int64(1), object(20)\n",
      "memory usage: 2.4+ MB\n"
     ]
    }
   ],
   "source": [
    "df.info()"
   ]
  },
  {
   "cell_type": "code",
   "execution_count": 10,
   "id": "d0a41a4a-eb0a-4d7d-85a4-fd2c54593af7",
   "metadata": {},
   "outputs": [
    {
     "data": {
      "text/html": [
       "<div>\n",
       "<style scoped>\n",
       "    .dataframe tbody tr th:only-of-type {\n",
       "        vertical-align: middle;\n",
       "    }\n",
       "\n",
       "    .dataframe tbody tr th {\n",
       "        vertical-align: top;\n",
       "    }\n",
       "\n",
       "    .dataframe thead th {\n",
       "        text-align: right;\n",
       "    }\n",
       "</style>\n",
       "<table border=\"1\" class=\"dataframe\">\n",
       "  <thead>\n",
       "    <tr style=\"text-align: right;\">\n",
       "      <th></th>\n",
       "      <th>Unnamed: 0</th>\n",
       "      <th>BirthAsphyxia</th>\n",
       "      <th>HypDistrib</th>\n",
       "      <th>HypoxiaInO2</th>\n",
       "      <th>CO2</th>\n",
       "      <th>ChestXray</th>\n",
       "      <th>Grunting</th>\n",
       "      <th>LVHreport</th>\n",
       "      <th>LowerBodyO2</th>\n",
       "      <th>RUQO2</th>\n",
       "      <th>CO2Report</th>\n",
       "      <th>XrayReport</th>\n",
       "      <th>Disease</th>\n",
       "      <th>GruntingReport</th>\n",
       "      <th>Age</th>\n",
       "      <th>LVH</th>\n",
       "      <th>LungParench</th>\n",
       "      <th>LungFlow</th>\n",
       "      <th>Sick</th>\n",
       "    </tr>\n",
       "  </thead>\n",
       "  <tbody>\n",
       "    <tr>\n",
       "      <th>0</th>\n",
       "      <td>0</td>\n",
       "      <td>no</td>\n",
       "      <td>Equal</td>\n",
       "      <td>Severe</td>\n",
       "      <td>Normal</td>\n",
       "      <td>Normal</td>\n",
       "      <td>yes</td>\n",
       "      <td>no</td>\n",
       "      <td>5-12</td>\n",
       "      <td>&lt;5</td>\n",
       "      <td>&lt;7.5</td>\n",
       "      <td>Asy/Patchy</td>\n",
       "      <td>TGA</td>\n",
       "      <td>no</td>\n",
       "      <td>4-10_days</td>\n",
       "      <td>no</td>\n",
       "      <td>Normal</td>\n",
       "      <td>Normal</td>\n",
       "      <td>no</td>\n",
       "    </tr>\n",
       "    <tr>\n",
       "      <th>1</th>\n",
       "      <td>1</td>\n",
       "      <td>no</td>\n",
       "      <td>Equal</td>\n",
       "      <td>Moderate</td>\n",
       "      <td>High</td>\n",
       "      <td>Grd_Glass</td>\n",
       "      <td>no</td>\n",
       "      <td>no</td>\n",
       "      <td>&lt;5</td>\n",
       "      <td>5-12</td>\n",
       "      <td>&gt;=7.5</td>\n",
       "      <td>Grd_Glass</td>\n",
       "      <td>Fallot</td>\n",
       "      <td>no</td>\n",
       "      <td>0-3_days</td>\n",
       "      <td>no</td>\n",
       "      <td>Abnormal</td>\n",
       "      <td>High</td>\n",
       "      <td>no</td>\n",
       "    </tr>\n",
       "    <tr>\n",
       "      <th>2</th>\n",
       "      <td>2</td>\n",
       "      <td>no</td>\n",
       "      <td>Equal</td>\n",
       "      <td>Severe</td>\n",
       "      <td>Normal</td>\n",
       "      <td>Plethoric</td>\n",
       "      <td>no</td>\n",
       "      <td>yes</td>\n",
       "      <td>5-12</td>\n",
       "      <td>5-12</td>\n",
       "      <td>&gt;=7.5</td>\n",
       "      <td>Normal</td>\n",
       "      <td>PFC</td>\n",
       "      <td>no</td>\n",
       "      <td>0-3_days</td>\n",
       "      <td>no</td>\n",
       "      <td>Normal</td>\n",
       "      <td>High</td>\n",
       "      <td>no</td>\n",
       "    </tr>\n",
       "    <tr>\n",
       "      <th>3</th>\n",
       "      <td>3</td>\n",
       "      <td>no</td>\n",
       "      <td>Equal</td>\n",
       "      <td>Moderate</td>\n",
       "      <td>Normal</td>\n",
       "      <td>Plethoric</td>\n",
       "      <td>no</td>\n",
       "      <td>no</td>\n",
       "      <td>5-12</td>\n",
       "      <td>&lt;5</td>\n",
       "      <td>&lt;7.5</td>\n",
       "      <td>Plethoric</td>\n",
       "      <td>PAIVS</td>\n",
       "      <td>no</td>\n",
       "      <td>0-3_days</td>\n",
       "      <td>no</td>\n",
       "      <td>Normal</td>\n",
       "      <td>Low</td>\n",
       "      <td>no</td>\n",
       "    </tr>\n",
       "    <tr>\n",
       "      <th>4</th>\n",
       "      <td>4</td>\n",
       "      <td>no</td>\n",
       "      <td>Equal</td>\n",
       "      <td>Moderate</td>\n",
       "      <td>Normal</td>\n",
       "      <td>Plethoric</td>\n",
       "      <td>no</td>\n",
       "      <td>yes</td>\n",
       "      <td>12+</td>\n",
       "      <td>5-12</td>\n",
       "      <td>&lt;7.5</td>\n",
       "      <td>Plethoric</td>\n",
       "      <td>PAIVS</td>\n",
       "      <td>no</td>\n",
       "      <td>0-3_days</td>\n",
       "      <td>yes</td>\n",
       "      <td>Normal</td>\n",
       "      <td>Normal</td>\n",
       "      <td>yes</td>\n",
       "    </tr>\n",
       "    <tr>\n",
       "      <th>...</th>\n",
       "      <td>...</td>\n",
       "      <td>...</td>\n",
       "      <td>...</td>\n",
       "      <td>...</td>\n",
       "      <td>...</td>\n",
       "      <td>...</td>\n",
       "      <td>...</td>\n",
       "      <td>...</td>\n",
       "      <td>...</td>\n",
       "      <td>...</td>\n",
       "      <td>...</td>\n",
       "      <td>...</td>\n",
       "      <td>...</td>\n",
       "      <td>...</td>\n",
       "      <td>...</td>\n",
       "      <td>...</td>\n",
       "      <td>...</td>\n",
       "      <td>...</td>\n",
       "      <td>...</td>\n",
       "    </tr>\n",
       "    <tr>\n",
       "      <th>14995</th>\n",
       "      <td>14995</td>\n",
       "      <td>no</td>\n",
       "      <td>Equal</td>\n",
       "      <td>Moderate</td>\n",
       "      <td>Normal</td>\n",
       "      <td>Normal</td>\n",
       "      <td>no</td>\n",
       "      <td>no</td>\n",
       "      <td>5-12</td>\n",
       "      <td>5-12</td>\n",
       "      <td>&lt;7.5</td>\n",
       "      <td>Normal</td>\n",
       "      <td>PAIVS</td>\n",
       "      <td>no</td>\n",
       "      <td>0-3_days</td>\n",
       "      <td>no</td>\n",
       "      <td>Normal</td>\n",
       "      <td>Normal</td>\n",
       "      <td>no</td>\n",
       "    </tr>\n",
       "    <tr>\n",
       "      <th>14996</th>\n",
       "      <td>14996</td>\n",
       "      <td>no</td>\n",
       "      <td>Equal</td>\n",
       "      <td>Moderate</td>\n",
       "      <td>Normal</td>\n",
       "      <td>Plethoric</td>\n",
       "      <td>no</td>\n",
       "      <td>yes</td>\n",
       "      <td>&lt;5</td>\n",
       "      <td>5-12</td>\n",
       "      <td>&lt;7.5</td>\n",
       "      <td>Plethoric</td>\n",
       "      <td>Fallot</td>\n",
       "      <td>no</td>\n",
       "      <td>0-3_days</td>\n",
       "      <td>yes</td>\n",
       "      <td>Abnormal</td>\n",
       "      <td>High</td>\n",
       "      <td>yes</td>\n",
       "    </tr>\n",
       "    <tr>\n",
       "      <th>14997</th>\n",
       "      <td>14997</td>\n",
       "      <td>no</td>\n",
       "      <td>Equal</td>\n",
       "      <td>Moderate</td>\n",
       "      <td>High</td>\n",
       "      <td>Normal</td>\n",
       "      <td>no</td>\n",
       "      <td>no</td>\n",
       "      <td>5-12</td>\n",
       "      <td>&lt;5</td>\n",
       "      <td>&lt;7.5</td>\n",
       "      <td>Normal</td>\n",
       "      <td>Fallot</td>\n",
       "      <td>yes</td>\n",
       "      <td>0-3_days</td>\n",
       "      <td>no</td>\n",
       "      <td>Normal</td>\n",
       "      <td>High</td>\n",
       "      <td>yes</td>\n",
       "    </tr>\n",
       "    <tr>\n",
       "      <th>14998</th>\n",
       "      <td>14998</td>\n",
       "      <td>no</td>\n",
       "      <td>Equal</td>\n",
       "      <td>Mild</td>\n",
       "      <td>Normal</td>\n",
       "      <td>Normal</td>\n",
       "      <td>no</td>\n",
       "      <td>no</td>\n",
       "      <td>&lt;5</td>\n",
       "      <td>&lt;5</td>\n",
       "      <td>&gt;=7.5</td>\n",
       "      <td>Normal</td>\n",
       "      <td>TGA</td>\n",
       "      <td>no</td>\n",
       "      <td>0-3_days</td>\n",
       "      <td>no</td>\n",
       "      <td>Normal</td>\n",
       "      <td>High</td>\n",
       "      <td>no</td>\n",
       "    </tr>\n",
       "    <tr>\n",
       "      <th>14999</th>\n",
       "      <td>14999</td>\n",
       "      <td>no</td>\n",
       "      <td>Equal</td>\n",
       "      <td>Severe</td>\n",
       "      <td>High</td>\n",
       "      <td>Normal</td>\n",
       "      <td>no</td>\n",
       "      <td>no</td>\n",
       "      <td>&lt;5</td>\n",
       "      <td>5-12</td>\n",
       "      <td>&lt;7.5</td>\n",
       "      <td>Normal</td>\n",
       "      <td>TGA</td>\n",
       "      <td>no</td>\n",
       "      <td>0-3_days</td>\n",
       "      <td>no</td>\n",
       "      <td>Normal</td>\n",
       "      <td>Normal</td>\n",
       "      <td>no</td>\n",
       "    </tr>\n",
       "  </tbody>\n",
       "</table>\n",
       "<p>15000 rows × 19 columns</p>\n",
       "</div>"
      ],
      "text/plain": [
       "       Unnamed: 0 BirthAsphyxia HypDistrib HypoxiaInO2     CO2  ChestXray  \\\n",
       "0               0            no      Equal      Severe  Normal     Normal   \n",
       "1               1            no      Equal    Moderate    High  Grd_Glass   \n",
       "2               2            no      Equal      Severe  Normal  Plethoric   \n",
       "3               3            no      Equal    Moderate  Normal  Plethoric   \n",
       "4               4            no      Equal    Moderate  Normal  Plethoric   \n",
       "...           ...           ...        ...         ...     ...        ...   \n",
       "14995       14995            no      Equal    Moderate  Normal     Normal   \n",
       "14996       14996            no      Equal    Moderate  Normal  Plethoric   \n",
       "14997       14997            no      Equal    Moderate    High     Normal   \n",
       "14998       14998            no      Equal        Mild  Normal     Normal   \n",
       "14999       14999            no      Equal      Severe    High     Normal   \n",
       "\n",
       "      Grunting LVHreport LowerBodyO2 RUQO2 CO2Report  XrayReport Disease  \\\n",
       "0          yes        no        5-12    <5      <7.5  Asy/Patchy     TGA   \n",
       "1           no        no          <5  5-12     >=7.5   Grd_Glass  Fallot   \n",
       "2           no       yes        5-12  5-12     >=7.5      Normal     PFC   \n",
       "3           no        no        5-12    <5      <7.5   Plethoric   PAIVS   \n",
       "4           no       yes         12+  5-12      <7.5   Plethoric   PAIVS   \n",
       "...        ...       ...         ...   ...       ...         ...     ...   \n",
       "14995       no        no        5-12  5-12      <7.5      Normal   PAIVS   \n",
       "14996       no       yes          <5  5-12      <7.5   Plethoric  Fallot   \n",
       "14997       no        no        5-12    <5      <7.5      Normal  Fallot   \n",
       "14998       no        no          <5    <5     >=7.5      Normal     TGA   \n",
       "14999       no        no          <5  5-12      <7.5      Normal     TGA   \n",
       "\n",
       "      GruntingReport        Age  LVH LungParench LungFlow Sick  \n",
       "0                 no  4-10_days   no      Normal   Normal   no  \n",
       "1                 no   0-3_days   no    Abnormal     High   no  \n",
       "2                 no   0-3_days   no      Normal     High   no  \n",
       "3                 no   0-3_days   no      Normal      Low   no  \n",
       "4                 no   0-3_days  yes      Normal   Normal  yes  \n",
       "...              ...        ...  ...         ...      ...  ...  \n",
       "14995             no   0-3_days   no      Normal   Normal   no  \n",
       "14996             no   0-3_days  yes    Abnormal     High  yes  \n",
       "14997            yes   0-3_days   no      Normal     High  yes  \n",
       "14998             no   0-3_days   no      Normal     High   no  \n",
       "14999             no   0-3_days   no      Normal   Normal   no  \n",
       "\n",
       "[15000 rows x 19 columns]"
      ]
     },
     "execution_count": 10,
     "metadata": {},
     "output_type": "execute_result"
    }
   ],
   "source": [
    "df.drop('DuctFlow', axis=1, inplace=True)\n",
    "df.drop('CardiacMixing', axis=1,inplace=True)\n",
    "df"
   ]
  },
  {
   "cell_type": "code",
   "execution_count": 11,
   "id": "9cb53ed3-8067-4e9e-8e2e-5b087dc62ea8",
   "metadata": {},
   "outputs": [
    {
     "data": {
      "text/plain": [
       "Unnamed: 0        0\n",
       "BirthAsphyxia     0\n",
       "HypDistrib        0\n",
       "HypoxiaInO2       0\n",
       "CO2               0\n",
       "ChestXray         0\n",
       "Grunting          0\n",
       "LVHreport         0\n",
       "LowerBodyO2       0\n",
       "RUQO2             0\n",
       "CO2Report         0\n",
       "XrayReport        0\n",
       "Disease           0\n",
       "GruntingReport    0\n",
       "Age               0\n",
       "LVH               0\n",
       "LungParench       0\n",
       "LungFlow          0\n",
       "Sick              0\n",
       "dtype: int64"
      ]
     },
     "execution_count": 11,
     "metadata": {},
     "output_type": "execute_result"
    }
   ],
   "source": [
    "df.isnull().sum()"
   ]
  },
  {
   "cell_type": "code",
   "execution_count": 12,
   "id": "9d9c2fe4-2737-4306-9c3e-700a8ba5b45f",
   "metadata": {},
   "outputs": [],
   "source": [
    "x = df.drop('Sick', axis= 1)\n",
    "y = df['Sick']"
   ]
  },
  {
   "cell_type": "code",
   "execution_count": 13,
   "id": "1cf0c2e7-f705-40d7-9d5f-70184b13b171",
   "metadata": {},
   "outputs": [
    {
     "data": {
      "text/plain": [
       "(15000, 18)"
      ]
     },
     "execution_count": 13,
     "metadata": {},
     "output_type": "execute_result"
    }
   ],
   "source": [
    "x.shape"
   ]
  },
  {
   "cell_type": "code",
   "execution_count": 14,
   "id": "8f817d63-a2f1-420d-a944-7cd0727d41a5",
   "metadata": {},
   "outputs": [
    {
     "data": {
      "text/plain": [
       "0         no\n",
       "1         no\n",
       "2         no\n",
       "3         no\n",
       "4        yes\n",
       "        ... \n",
       "14995     no\n",
       "14996    yes\n",
       "14997    yes\n",
       "14998     no\n",
       "14999     no\n",
       "Name: Sick, Length: 15000, dtype: object"
      ]
     },
     "execution_count": 14,
     "metadata": {},
     "output_type": "execute_result"
    }
   ],
   "source": [
    "y"
   ]
  },
  {
   "cell_type": "code",
   "execution_count": 15,
   "id": "a5693858-e02e-42fe-a473-bafdee67505e",
   "metadata": {},
   "outputs": [],
   "source": [
    "one= x.iloc[:, 0:4]\n",
    "one['Sick']= y\n",
    "two= x.iloc[:, 4:8]\n",
    "two['Sick']= y\n",
    "three= x.iloc[:, 8:12]\n",
    "three['Sick']= y\n",
    "four= x.iloc[:, 12:16]\n",
    "four['Sick']= y\n",
    "five= x.iloc[:, 16:19]\n",
    "five['Sick']= y"
   ]
  },
  {
   "cell_type": "code",
   "execution_count": 16,
   "id": "a3f37e51-9b78-4905-8687-9ddbbf44a515",
   "metadata": {},
   "outputs": [
    {
     "data": {
      "text/html": [
       "<div>\n",
       "<style scoped>\n",
       "    .dataframe tbody tr th:only-of-type {\n",
       "        vertical-align: middle;\n",
       "    }\n",
       "\n",
       "    .dataframe tbody tr th {\n",
       "        vertical-align: top;\n",
       "    }\n",
       "\n",
       "    .dataframe thead th {\n",
       "        text-align: right;\n",
       "    }\n",
       "</style>\n",
       "<table border=\"1\" class=\"dataframe\">\n",
       "  <thead>\n",
       "    <tr style=\"text-align: right;\">\n",
       "      <th></th>\n",
       "      <th>Unnamed: 0</th>\n",
       "      <th>BirthAsphyxia</th>\n",
       "      <th>HypDistrib</th>\n",
       "      <th>HypoxiaInO2</th>\n",
       "      <th>Sick</th>\n",
       "    </tr>\n",
       "  </thead>\n",
       "  <tbody>\n",
       "    <tr>\n",
       "      <th>0</th>\n",
       "      <td>0</td>\n",
       "      <td>no</td>\n",
       "      <td>Equal</td>\n",
       "      <td>Severe</td>\n",
       "      <td>no</td>\n",
       "    </tr>\n",
       "    <tr>\n",
       "      <th>1</th>\n",
       "      <td>1</td>\n",
       "      <td>no</td>\n",
       "      <td>Equal</td>\n",
       "      <td>Moderate</td>\n",
       "      <td>no</td>\n",
       "    </tr>\n",
       "    <tr>\n",
       "      <th>2</th>\n",
       "      <td>2</td>\n",
       "      <td>no</td>\n",
       "      <td>Equal</td>\n",
       "      <td>Severe</td>\n",
       "      <td>no</td>\n",
       "    </tr>\n",
       "    <tr>\n",
       "      <th>3</th>\n",
       "      <td>3</td>\n",
       "      <td>no</td>\n",
       "      <td>Equal</td>\n",
       "      <td>Moderate</td>\n",
       "      <td>no</td>\n",
       "    </tr>\n",
       "    <tr>\n",
       "      <th>4</th>\n",
       "      <td>4</td>\n",
       "      <td>no</td>\n",
       "      <td>Equal</td>\n",
       "      <td>Moderate</td>\n",
       "      <td>yes</td>\n",
       "    </tr>\n",
       "    <tr>\n",
       "      <th>...</th>\n",
       "      <td>...</td>\n",
       "      <td>...</td>\n",
       "      <td>...</td>\n",
       "      <td>...</td>\n",
       "      <td>...</td>\n",
       "    </tr>\n",
       "    <tr>\n",
       "      <th>14995</th>\n",
       "      <td>14995</td>\n",
       "      <td>no</td>\n",
       "      <td>Equal</td>\n",
       "      <td>Moderate</td>\n",
       "      <td>no</td>\n",
       "    </tr>\n",
       "    <tr>\n",
       "      <th>14996</th>\n",
       "      <td>14996</td>\n",
       "      <td>no</td>\n",
       "      <td>Equal</td>\n",
       "      <td>Moderate</td>\n",
       "      <td>yes</td>\n",
       "    </tr>\n",
       "    <tr>\n",
       "      <th>14997</th>\n",
       "      <td>14997</td>\n",
       "      <td>no</td>\n",
       "      <td>Equal</td>\n",
       "      <td>Moderate</td>\n",
       "      <td>yes</td>\n",
       "    </tr>\n",
       "    <tr>\n",
       "      <th>14998</th>\n",
       "      <td>14998</td>\n",
       "      <td>no</td>\n",
       "      <td>Equal</td>\n",
       "      <td>Mild</td>\n",
       "      <td>no</td>\n",
       "    </tr>\n",
       "    <tr>\n",
       "      <th>14999</th>\n",
       "      <td>14999</td>\n",
       "      <td>no</td>\n",
       "      <td>Equal</td>\n",
       "      <td>Severe</td>\n",
       "      <td>no</td>\n",
       "    </tr>\n",
       "  </tbody>\n",
       "</table>\n",
       "<p>15000 rows × 5 columns</p>\n",
       "</div>"
      ],
      "text/plain": [
       "       Unnamed: 0 BirthAsphyxia HypDistrib HypoxiaInO2 Sick\n",
       "0               0            no      Equal      Severe   no\n",
       "1               1            no      Equal    Moderate   no\n",
       "2               2            no      Equal      Severe   no\n",
       "3               3            no      Equal    Moderate   no\n",
       "4               4            no      Equal    Moderate  yes\n",
       "...           ...           ...        ...         ...  ...\n",
       "14995       14995            no      Equal    Moderate   no\n",
       "14996       14996            no      Equal    Moderate  yes\n",
       "14997       14997            no      Equal    Moderate  yes\n",
       "14998       14998            no      Equal        Mild   no\n",
       "14999       14999            no      Equal      Severe   no\n",
       "\n",
       "[15000 rows x 5 columns]"
      ]
     },
     "execution_count": 16,
     "metadata": {},
     "output_type": "execute_result"
    }
   ],
   "source": [
    "one"
   ]
  },
  {
   "cell_type": "code",
   "execution_count": 17,
   "id": "7a9c8e0e-6bc4-4335-8112-0e07e3ae9cae",
   "metadata": {},
   "outputs": [
    {
     "data": {
      "image/png": "[encoded data removed]",
      "text/plain": [
       "<Figure size 289.486x250 with 2 Axes>"
      ]
     },
     "metadata": {},
     "output_type": "display_data"
    }
   ],
   "source": [
    "sns.pairplot(one, hue='Sick');"
   ]
  },
  {
   "cell_type": "code",
   "execution_count": 18,
   "id": "0575ae5d-04a7-4000-9b5b-8fbe36dc7bbb",
   "metadata": {},
   "outputs": [
    {
     "data": {
      "image/png": "[encoded data removed]",
      "text/plain": [
       "<Figure size 640x480 with 1 Axes>"
      ]
     },
     "metadata": {},
     "output_type": "display_data"
    }
   ],
   "source": [
    "sns.countplot(x = y);"
   ]
  },
  {
   "cell_type": "code",
   "execution_count": 19,
   "id": "c01c8332-ab87-4baf-8dfb-eff039dd7432",
   "metadata": {},
   "outputs": [
    {
     "data": {
      "text/plain": [
       "Unnamed: 0         int64\n",
       "BirthAsphyxia     object\n",
       "HypDistrib        object\n",
       "HypoxiaInO2       object\n",
       "CO2               object\n",
       "ChestXray         object\n",
       "Grunting          object\n",
       "LVHreport         object\n",
       "LowerBodyO2       object\n",
       "RUQO2             object\n",
       "CO2Report         object\n",
       "XrayReport        object\n",
       "Disease           object\n",
       "GruntingReport    object\n",
       "Age               object\n",
       "LVH               object\n",
       "LungParench       object\n",
       "LungFlow          object\n",
       "dtype: object"
      ]
     },
     "execution_count": 19,
     "metadata": {},
     "output_type": "execute_result"
    }
   ],
   "source": [
    "x.dtypes"
   ]
  },
  {
   "cell_type": "code",
   "execution_count": 20,
   "id": "4b0a9e80-f61a-4732-b863-dd47c1c0b6a2",
   "metadata": {},
   "outputs": [],
   "source": [
    "#one hot enode\n",
    "\n",
    "x = pd.get_dummies(x, drop_first= True)"
   ]
  },
  {
   "cell_type": "code",
   "execution_count": 21,
   "id": "0719d676-6278-4530-bcac-d3b52d156693",
   "metadata": {},
   "outputs": [],
   "source": [
    "x;"
   ]
  },
  {
   "cell_type": "code",
   "execution_count": 22,
   "id": "b8c08238-8c20-4439-b209-129799ac1ed5",
   "metadata": {},
   "outputs": [],
   "source": [
    "col_order_ohe = x.columns.tolist()"
   ]
  },
  {
   "cell_type": "code",
   "execution_count": 23,
   "id": "d63d00d5-ebd1-4ca9-9255-a85882af9da0",
   "metadata": {},
   "outputs": [],
   "source": [
    "col_order_ohe;"
   ]
  },
  {
   "cell_type": "code",
   "execution_count": 24,
   "id": "4c766df6-738c-4748-97eb-5e05911e05a8",
   "metadata": {},
   "outputs": [],
   "source": [
    "#isolation forest for outlier removal"
   ]
  },
  {
   "cell_type": "code",
   "execution_count": 25,
   "id": "167c005a-fc36-471b-be04-8a50fe8ed934",
   "metadata": {},
   "outputs": [],
   "source": [
    "from sklearn.ensemble import IsolationForest\n",
    "iso = IsolationForest(contamination = 0.05, random_state = 0)"
   ]
  },
  {
   "cell_type": "code",
   "execution_count": 26,
   "id": "9c77cd92-3f70-4be3-bc67-01bec8cb7a7c",
   "metadata": {},
   "outputs": [],
   "source": [
    "clean = iso.fit_predict(x)"
   ]
  },
  {
   "cell_type": "code",
   "execution_count": 27,
   "id": "50d86199-5498-4765-a04c-7cc2b413cf0a",
   "metadata": {},
   "outputs": [
    {
     "data": {
      "text/plain": [
       "array([1, 1, 1, ..., 1, 1, 1])"
      ]
     },
     "execution_count": 27,
     "metadata": {},
     "output_type": "execute_result"
    }
   ],
   "source": [
    "clean"
   ]
  },
  {
   "cell_type": "code",
   "execution_count": 28,
   "id": "fdb561ec-7e1b-4109-b865-837b98b8f7f4",
   "metadata": {},
   "outputs": [],
   "source": [
    "x = x[clean == 1]\n",
    "y = y[clean == 1]\n"
   ]
  },
  {
   "cell_type": "code",
   "execution_count": 29,
   "id": "5d147d19-8c98-4794-bc71-f3dea2fa61eb",
   "metadata": {},
   "outputs": [
    {
     "data": {
      "text/plain": [
       "(14250, 35)"
      ]
     },
     "execution_count": 29,
     "metadata": {},
     "output_type": "execute_result"
    }
   ],
   "source": [
    "x.shape"
   ]
  },
  {
   "cell_type": "markdown",
   "id": "089f7958-08ac-4cd8-8da1-72c686ec539b",
   "metadata": {},
   "source": [
    "Sampling(over Sampling)"
   ]
  },
  {
   "cell_type": "code",
   "execution_count": 30,
   "id": "29effca0-f2da-40d2-a1c5-e850ac78dab9",
   "metadata": {},
   "outputs": [
    {
     "data": {
      "text/plain": [
       "Sick\n",
       "no     10920\n",
       "yes     3330\n",
       "Name: count, dtype: int64"
      ]
     },
     "execution_count": 30,
     "metadata": {},
     "output_type": "execute_result"
    }
   ],
   "source": [
    "y.value_counts()"
   ]
  },
  {
   "cell_type": "code",
   "execution_count": 31,
   "id": "8b84081e-f37b-48d3-98db-8ff860463232",
   "metadata": {},
   "outputs": [],
   "source": [
    "# imbalanced-Learn"
   ]
  },
  {
   "cell_type": "code",
   "execution_count": 32,
   "id": "7ff355a9-1a8d-4a9a-ad3e-e84bf72dc1d8",
   "metadata": {},
   "outputs": [],
   "source": [
    "from imblearn.over_sampling import SMOTE"
   ]
  },
  {
   "cell_type": "code",
   "execution_count": 33,
   "id": "e4708b92-abec-40e9-a698-45caf8353cfe",
   "metadata": {},
   "outputs": [],
   "source": [
    "#!pip install imblearn"
   ]
  },
  {
   "cell_type": "code",
   "execution_count": 34,
   "id": "92b5fec8-3291-4ce8-a1f5-db0e04f270c6",
   "metadata": {},
   "outputs": [],
   "source": [
    "smote = SMOTE(k_neighbors = 5)"
   ]
  },
  {
   "cell_type": "code",
   "execution_count": 35,
   "id": "98aec949-0370-4c1e-a2cc-02dfe0418ac3",
   "metadata": {},
   "outputs": [],
   "source": [
    "x_res, y_res = smote.fit_resample(x,y)"
   ]
  },
  {
   "cell_type": "code",
   "execution_count": 36,
   "id": "33de1f53-5c93-421b-a8d7-1997e6b9002a",
   "metadata": {},
   "outputs": [
    {
     "data": {
      "text/plain": [
       "Sick\n",
       "no     10920\n",
       "yes    10920\n",
       "Name: count, dtype: int64"
      ]
     },
     "execution_count": 36,
     "metadata": {},
     "output_type": "execute_result"
    }
   ],
   "source": [
    "y_res.value_counts()"
   ]
  },
  {
   "cell_type": "code",
   "execution_count": 37,
   "id": "5814bddc-d211-4c04-bac8-5aa0a4447932",
   "metadata": {},
   "outputs": [],
   "source": [
    "#sns.countplot(x = y_res);"
   ]
  },
  {
   "cell_type": "code",
   "execution_count": 38,
   "id": "3bdad0bf-4ffe-434c-b7fa-347da38da3b5",
   "metadata": {},
   "outputs": [],
   "source": [
    "#using label encoder nated of isolationforest\n",
    "from sklearn import preprocessing \n"
   ]
  },
  {
   "cell_type": "code",
   "execution_count": 39,
   "id": "3baadf94-4b23-454e-85fc-910dd2c42284",
   "metadata": {},
   "outputs": [],
   "source": [
    "x= x.apply(preprocessing.LabelEncoder().fit_transform)\n",
    "x;"
   ]
  },
  {
   "cell_type": "code",
   "execution_count": 40,
   "id": "7514309e-6314-4f68-b4c3-6f5325bf02af",
   "metadata": {},
   "outputs": [],
   "source": [
    "col_order_ohe = x.columns.tolist()"
   ]
  },
  {
   "cell_type": "code",
   "execution_count": 41,
   "id": "23fac3a9-01f4-4aa3-aec7-6d91ac89224d",
   "metadata": {},
   "outputs": [],
   "source": [
    "col_order_ohe;"
   ]
  },
  {
   "cell_type": "code",
   "execution_count": 42,
   "id": "a7ed83b5-b2c0-43dd-a474-d347330acf6d",
   "metadata": {},
   "outputs": [],
   "source": [
    "from sklearn.ensemble import IsolationForest\n",
    "iso = IsolationForest(contamination = 0.05, random_state = 0)"
   ]
  },
  {
   "cell_type": "code",
   "execution_count": 43,
   "id": "e03adb03-c973-4233-9930-6796511f46d4",
   "metadata": {},
   "outputs": [],
   "source": [
    "clean = iso.fit_predict(x)"
   ]
  },
  {
   "cell_type": "code",
   "execution_count": 44,
   "id": "cadac0b6-5e62-4cd3-a786-d5ca5a186c96",
   "metadata": {},
   "outputs": [
    {
     "data": {
      "text/plain": [
       "array([ 1, -1,  1, ...,  1,  1,  1])"
      ]
     },
     "execution_count": 44,
     "metadata": {},
     "output_type": "execute_result"
    }
   ],
   "source": [
    "clean"
   ]
  },
  {
   "cell_type": "code",
   "execution_count": 45,
   "id": "ae8e089d-13e9-4db1-87c7-051c8c9737b0",
   "metadata": {},
   "outputs": [],
   "source": [
    "x = x[clean == 1]\n",
    "y = y[clean == 1]\n"
   ]
  },
  {
   "cell_type": "code",
   "execution_count": 46,
   "id": "b1fba370-466d-4d47-bfad-9f1fb0376c41",
   "metadata": {},
   "outputs": [
    {
     "data": {
      "text/plain": [
       "(13537, 35)"
      ]
     },
     "execution_count": 46,
     "metadata": {},
     "output_type": "execute_result"
    }
   ],
   "source": [
    "x.shape"
   ]
  },
  {
   "cell_type": "code",
   "execution_count": 47,
   "id": "d983ae4a-709d-4b27-80c2-8d66f8651b45",
   "metadata": {},
   "outputs": [
    {
     "data": {
      "text/plain": [
       "Sick\n",
       "no     10438\n",
       "yes     3099\n",
       "Name: count, dtype: int64"
      ]
     },
     "execution_count": 47,
     "metadata": {},
     "output_type": "execute_result"
    }
   ],
   "source": [
    "y.value_counts()"
   ]
  },
  {
   "cell_type": "code",
   "execution_count": 48,
   "id": "e1c24b74-6758-428d-b7d4-1c8de4a5bfb6",
   "metadata": {},
   "outputs": [],
   "source": [
    "from imblearn.over_sampling import SMOTE"
   ]
  },
  {
   "cell_type": "code",
   "execution_count": 49,
   "id": "91b8c0a8-8bba-46ba-9efe-191689170b8c",
   "metadata": {},
   "outputs": [],
   "source": [
    "smote = SMOTE(k_neighbors = 5)"
   ]
  },
  {
   "cell_type": "code",
   "execution_count": 50,
   "id": "698f3e59-90b1-48af-8283-102010968389",
   "metadata": {},
   "outputs": [],
   "source": [
    "#resample \n",
    "x_res, y_res = smote.fit_resample(x,y)"
   ]
  },
  {
   "cell_type": "code",
   "execution_count": 51,
   "id": "e8a32fe2-487b-4db7-a51a-f7530f7967d1",
   "metadata": {},
   "outputs": [
    {
     "data": {
      "text/plain": [
       "Sick\n",
       "no     10438\n",
       "yes    10438\n",
       "Name: count, dtype: int64"
      ]
     },
     "execution_count": 51,
     "metadata": {},
     "output_type": "execute_result"
    }
   ],
   "source": [
    "y_res.value_counts()"
   ]
  },
  {
   "cell_type": "code",
   "execution_count": 52,
   "id": "61950eda-4159-4abb-9f94-df7e8afa52cc",
   "metadata": {},
   "outputs": [
    {
     "data": {
      "text/plain": [
       "(20876,)"
      ]
     },
     "execution_count": 52,
     "metadata": {},
     "output_type": "execute_result"
    }
   ],
   "source": [
    "y_res.shape"
   ]
  },
  {
   "cell_type": "code",
   "execution_count": 53,
   "id": "d7e7d06d-84cc-4ad1-8c60-8c44840a3ae0",
   "metadata": {},
   "outputs": [
    {
     "data": {
      "image/png": "[encoded data removed]",
      "text/plain": [
       "<Figure size 640x480 with 1 Axes>"
      ]
     },
     "metadata": {},
     "output_type": "display_data"
    }
   ],
   "source": [
    "sns.countplot(x = y_res);"
   ]
  },
  {
   "cell_type": "code",
   "execution_count": 54,
   "id": "1dbf62e4-a6eb-45c7-98bf-b4a59bbcd305",
   "metadata": {},
   "outputs": [],
   "source": [
    "from sklearn.feature_selection import SelectKBest, chi2"
   ]
  },
  {
   "cell_type": "code",
   "execution_count": 55,
   "id": "4ae27717-f59c-455d-ac8c-623e0a2c989b",
   "metadata": {},
   "outputs": [],
   "source": [
    "skf = SelectKBest(k = 5, score_func = chi2)"
   ]
  },
  {
   "cell_type": "code",
   "execution_count": 56,
   "id": "2feb6f18-ff5b-4236-8009-c23f437dad4a",
   "metadata": {},
   "outputs": [],
   "source": [
    "x_new = skf.fit_transform(x_res, y_res)"
   ]
  },
  {
   "cell_type": "code",
   "execution_count": 57,
   "id": "2a9b93f8-a96b-465e-8d7e-3a7d66c52a95",
   "metadata": {},
   "outputs": [
    {
     "data": {
      "text/plain": [
       "(20876, 5)"
      ]
     },
     "execution_count": 57,
     "metadata": {},
     "output_type": "execute_result"
    }
   ],
   "source": [
    "x_new.shape"
   ]
  },
  {
   "cell_type": "code",
   "execution_count": 58,
   "id": "88824807-3b96-4a6a-b8a0-f4c177cb5f85",
   "metadata": {},
   "outputs": [
    {
     "data": {
      "text/plain": [
       "array([ True, False, False, False, False, False, False, False, False,\n",
       "        True, False, False, False, False, False, False, False, False,\n",
       "       False, False, False, False, False, False, False, False,  True,\n",
       "       False,  True,  True, False, False, False, False, False])"
      ]
     },
     "execution_count": 58,
     "metadata": {},
     "output_type": "execute_result"
    }
   ],
   "source": [
    "skf.get_support()"
   ]
  },
  {
   "cell_type": "code",
   "execution_count": 59,
   "id": "e0718088-061b-4ed4-a4bb-4ed240f03845",
   "metadata": {},
   "outputs": [],
   "source": [
    "x= x_res.loc[:, skf.get_support()]"
   ]
  },
  {
   "cell_type": "code",
   "execution_count": 60,
   "id": "66ea5051-7688-4018-b84c-6de42b9ab9d9",
   "metadata": {},
   "outputs": [
    {
     "data": {
      "text/html": [
       "<div>\n",
       "<style scoped>\n",
       "    .dataframe tbody tr th:only-of-type {\n",
       "        vertical-align: middle;\n",
       "    }\n",
       "\n",
       "    .dataframe tbody tr th {\n",
       "        vertical-align: top;\n",
       "    }\n",
       "\n",
       "    .dataframe thead th {\n",
       "        text-align: right;\n",
       "    }\n",
       "</style>\n",
       "<table border=\"1\" class=\"dataframe\">\n",
       "  <thead>\n",
       "    <tr style=\"text-align: right;\">\n",
       "      <th></th>\n",
       "      <th>Unnamed: 0</th>\n",
       "      <th>ChestXray_Oligaemic</th>\n",
       "      <th>Disease_TGA</th>\n",
       "      <th>Age_11-30_days</th>\n",
       "      <th>Age_4-10_days</th>\n",
       "    </tr>\n",
       "  </thead>\n",
       "  <tbody>\n",
       "    <tr>\n",
       "      <th>0</th>\n",
       "      <td>0</td>\n",
       "      <td>0</td>\n",
       "      <td>1</td>\n",
       "      <td>0</td>\n",
       "      <td>1</td>\n",
       "    </tr>\n",
       "    <tr>\n",
       "      <th>1</th>\n",
       "      <td>2</td>\n",
       "      <td>0</td>\n",
       "      <td>0</td>\n",
       "      <td>0</td>\n",
       "      <td>0</td>\n",
       "    </tr>\n",
       "    <tr>\n",
       "      <th>2</th>\n",
       "      <td>3</td>\n",
       "      <td>0</td>\n",
       "      <td>0</td>\n",
       "      <td>0</td>\n",
       "      <td>0</td>\n",
       "    </tr>\n",
       "    <tr>\n",
       "      <th>3</th>\n",
       "      <td>4</td>\n",
       "      <td>0</td>\n",
       "      <td>0</td>\n",
       "      <td>0</td>\n",
       "      <td>0</td>\n",
       "    </tr>\n",
       "    <tr>\n",
       "      <th>4</th>\n",
       "      <td>6</td>\n",
       "      <td>0</td>\n",
       "      <td>0</td>\n",
       "      <td>0</td>\n",
       "      <td>0</td>\n",
       "    </tr>\n",
       "    <tr>\n",
       "      <th>...</th>\n",
       "      <td>...</td>\n",
       "      <td>...</td>\n",
       "      <td>...</td>\n",
       "      <td>...</td>\n",
       "      <td>...</td>\n",
       "    </tr>\n",
       "    <tr>\n",
       "      <th>20871</th>\n",
       "      <td>8126</td>\n",
       "      <td>0</td>\n",
       "      <td>0</td>\n",
       "      <td>0</td>\n",
       "      <td>0</td>\n",
       "    </tr>\n",
       "    <tr>\n",
       "      <th>20872</th>\n",
       "      <td>9520</td>\n",
       "      <td>0</td>\n",
       "      <td>0</td>\n",
       "      <td>0</td>\n",
       "      <td>0</td>\n",
       "    </tr>\n",
       "    <tr>\n",
       "      <th>20873</th>\n",
       "      <td>1401</td>\n",
       "      <td>0</td>\n",
       "      <td>0</td>\n",
       "      <td>0</td>\n",
       "      <td>0</td>\n",
       "    </tr>\n",
       "    <tr>\n",
       "      <th>20874</th>\n",
       "      <td>12575</td>\n",
       "      <td>0</td>\n",
       "      <td>0</td>\n",
       "      <td>0</td>\n",
       "      <td>0</td>\n",
       "    </tr>\n",
       "    <tr>\n",
       "      <th>20875</th>\n",
       "      <td>9906</td>\n",
       "      <td>0</td>\n",
       "      <td>0</td>\n",
       "      <td>0</td>\n",
       "      <td>0</td>\n",
       "    </tr>\n",
       "  </tbody>\n",
       "</table>\n",
       "<p>20876 rows × 5 columns</p>\n",
       "</div>"
      ],
      "text/plain": [
       "       Unnamed: 0  ChestXray_Oligaemic  Disease_TGA  Age_11-30_days  \\\n",
       "0               0                    0            1               0   \n",
       "1               2                    0            0               0   \n",
       "2               3                    0            0               0   \n",
       "3               4                    0            0               0   \n",
       "4               6                    0            0               0   \n",
       "...           ...                  ...          ...             ...   \n",
       "20871        8126                    0            0               0   \n",
       "20872        9520                    0            0               0   \n",
       "20873        1401                    0            0               0   \n",
       "20874       12575                    0            0               0   \n",
       "20875        9906                    0            0               0   \n",
       "\n",
       "       Age_4-10_days  \n",
       "0                  1  \n",
       "1                  0  \n",
       "2                  0  \n",
       "3                  0  \n",
       "4                  0  \n",
       "...              ...  \n",
       "20871              0  \n",
       "20872              0  \n",
       "20873              0  \n",
       "20874              0  \n",
       "20875              0  \n",
       "\n",
       "[20876 rows x 5 columns]"
      ]
     },
     "execution_count": 60,
     "metadata": {},
     "output_type": "execute_result"
    }
   ],
   "source": [
    "x"
   ]
  },
  {
   "cell_type": "code",
   "execution_count": 61,
   "id": "bed0440c-a4bb-4147-8a25-11c094022a33",
   "metadata": {},
   "outputs": [
    {
     "data": {
      "text/plain": [
       "((20876, 5), (20876,))"
      ]
     },
     "execution_count": 61,
     "metadata": {},
     "output_type": "execute_result"
    }
   ],
   "source": [
    "x.shape, y_res.shape"
   ]
  },
  {
   "cell_type": "markdown",
   "id": "1a23fa51-f75f-4e04-88c4-0d0be31e8290",
   "metadata": {},
   "source": [
    "cross validation"
   ]
  },
  {
   "cell_type": "code",
   "execution_count": 62,
   "id": "cfdada3b-65d3-4a49-aabc-d0b209fbd159",
   "metadata": {},
   "outputs": [],
   "source": [
    "from sklearn.model_selection import train_test_split"
   ]
  },
  {
   "cell_type": "code",
   "execution_count": 63,
   "id": "72fd0634-b52a-45eb-b750-0d9f1988a5fe",
   "metadata": {},
   "outputs": [],
   "source": [
    "x_train, x_test, y_train, y_test = train_test_split(x,y_res,\n",
    "                                                   random_state= 0,\n",
    "                                                   test_size= 0.2,\n",
    "                                                   stratify = y_res)"
   ]
  },
  {
   "cell_type": "code",
   "execution_count": 64,
   "id": "bf8c6e2d-b38a-4159-bcd5-eff16602f53b",
   "metadata": {},
   "outputs": [
    {
     "data": {
      "text/plain": [
       "((16700, 5), (16700,))"
      ]
     },
     "execution_count": 64,
     "metadata": {},
     "output_type": "execute_result"
    }
   ],
   "source": [
    "x_train.shape, y_train.shape"
   ]
  },
  {
   "cell_type": "code",
   "execution_count": 65,
   "id": "944a70a1-8d2d-4ee3-a4ac-8886e2b42bc5",
   "metadata": {},
   "outputs": [
    {
     "data": {
      "text/plain": [
       "((4176, 5), (4176,))"
      ]
     },
     "execution_count": 65,
     "metadata": {},
     "output_type": "execute_result"
    }
   ],
   "source": [
    "x_test.shape, y_test.shape"
   ]
  },
  {
   "cell_type": "code",
   "execution_count": 66,
   "id": "174cf05d-49fc-4442-ba15-9d8114eb2485",
   "metadata": {},
   "outputs": [
    {
     "data": {
      "text/plain": [
       "Unnamed: 0  ChestXray_Oligaemic  Disease_TGA  Age_11-30_days  Age_4-10_days\n",
       "7363        0                    0            0               0                4\n",
       "8804        0                    0            0               0                4\n",
       "3395        0                    0            0               0                4\n",
       "3520        0                    0            0               0                3\n",
       "9849        0                    0            0               0                3\n",
       "                                                                              ..\n",
       "4825        0                    0            0               0                1\n",
       "                                 1            0               0                1\n",
       "4831        0                    0            0               0                1\n",
       "4837        0                    0            0               0                1\n",
       "14246       0                    0            0               0                1\n",
       "Name: count, Length: 3966, dtype: int64"
      ]
     },
     "execution_count": 66,
     "metadata": {},
     "output_type": "execute_result"
    }
   ],
   "source": [
    "x_test.value_counts()"
   ]
  },
  {
   "cell_type": "code",
   "execution_count": 67,
   "id": "3292dccd-e316-427d-a640-5c29bc7452cb",
   "metadata": {},
   "outputs": [],
   "source": [
    "#random forest algo\n",
    "from sklearn.ensemble import RandomForestClassifier"
   ]
  },
  {
   "cell_type": "code",
   "execution_count": 68,
   "id": "a159b860-ac89-47bb-bc21-7a744798b6ef",
   "metadata": {},
   "outputs": [],
   "source": [
    "rf=RandomForestClassifier(random_state=0,n_estimators=20)"
   ]
  },
  {
   "cell_type": "code",
   "execution_count": 69,
   "id": "ad0b35d5-0607-426b-8203-87acb2bcb356",
   "metadata": {},
   "outputs": [
    {
     "data": {
      "text/html": [
       "<style>#sk-container-id-1 {\n",
       "  /* Definition of color scheme common for light and dark mode */\n",
       "  --sklearn-color-text: black;\n",
       "  --sklearn-color-line: gray;\n",
       "  /* Definition of color scheme for unfitted estimators */\n",
       "  --sklearn-color-unfitted-level-0: #fff5e6;\n",
       "  --sklearn-color-unfitted-level-1: #f6e4d2;\n",
       "  --sklearn-color-unfitted-level-2: #ffe0b3;\n",
       "  --sklearn-color-unfitted-level-3: chocolate;\n",
       "  /* Definition of color scheme for fitted estimators */\n",
       "  --sklearn-color-fitted-level-0: #f0f8ff;\n",
       "  --sklearn-color-fitted-level-1: #d4ebff;\n",
       "  --sklearn-color-fitted-level-2: #b3dbfd;\n",
       "  --sklearn-color-fitted-level-3: cornflowerblue;\n",
       "\n",
       "  /* Specific color for light theme */\n",
       "  --sklearn-color-text-on-default-background: var(--sg-text-color, var(--theme-code-foreground, var(--jp-content-font-color1, black)));\n",
       "  --sklearn-color-background: var(--sg-background-color, var(--theme-background, var(--jp-layout-color0, white)));\n",
       "  --sklearn-color-border-box: var(--sg-text-color, var(--theme-code-foreground, var(--jp-content-font-color1, black)));\n",
       "  --sklearn-color-icon: #696969;\n",
       "\n",
       "  @media (prefers-color-scheme: dark) {\n",
       "    /* Redefinition of color scheme for dark theme */\n",
       "    --sklearn-color-text-on-default-background: var(--sg-text-color, var(--theme-code-foreground, var(--jp-content-font-color1, white)));\n",
       "    --sklearn-color-background: var(--sg-background-color, var(--theme-background, var(--jp-layout-color0, #111)));\n",
       "    --sklearn-color-border-box: var(--sg-text-color, var(--theme-code-foreground, var(--jp-content-font-color1, white)));\n",
       "    --sklearn-color-icon: #878787;\n",
       "  }\n",
       "}\n",
       "\n",
       "#sk-container-id-1 {\n",
       "  color: var(--sklearn-color-text);\n",
       "}\n",
       "\n",
       "#sk-container-id-1 pre {\n",
       "  padding: 0;\n",
       "}\n",
       "\n",
       "#sk-container-id-1 input.sk-hidden--visually {\n",
       "  border: 0;\n",
       "  clip: rect(1px 1px 1px 1px);\n",
       "  clip: rect(1px, 1px, 1px, 1px);\n",
       "  height: 1px;\n",
       "  margin: -1px;\n",
       "  overflow: hidden;\n",
       "  padding: 0;\n",
       "  position: absolute;\n",
       "  width: 1px;\n",
       "}\n",
       "\n",
       "#sk-container-id-1 div.sk-dashed-wrapped {\n",
       "  border: 1px dashed var(--sklearn-color-line);\n",
       "  margin: 0 0.4em 0.5em 0.4em;\n",
       "  box-sizing: border-box;\n",
       "  padding-bottom: 0.4em;\n",
       "  background-color: var(--sklearn-color-background);\n",
       "}\n",
       "\n",
       "#sk-container-id-1 div.sk-container {\n",
       "  /* jupyter's `normalize.less` sets `[hidden] { display: none; }`\n",
       "     but bootstrap.min.css set `[hidden] { display: none !important; }`\n",
       "     so we also need the `!important` here to be able to override the\n",
       "     default hidden behavior on the sphinx rendered scikit-learn.org.\n",
       "     See: https://github.com/scikit-learn/scikit-learn/issues/21755 */\n",
       "  display: inline-block !important;\n",
       "  position: relative;\n",
       "}\n",
       "\n",
       "#sk-container-id-1 div.sk-text-repr-fallback {\n",
       "  display: none;\n",
       "}\n",
       "\n",
       "div.sk-parallel-item,\n",
       "div.sk-serial,\n",
       "div.sk-item {\n",
       "  /* draw centered vertical line to link estimators */\n",
       "  background-image: linear-gradient(var(--sklearn-color-text-on-default-background), var(--sklearn-color-text-on-default-background));\n",
       "  background-size: 2px 100%;\n",
       "  background-repeat: no-repeat;\n",
       "  background-position: center center;\n",
       "}\n",
       "\n",
       "/* Parallel-specific style estimator block */\n",
       "\n",
       "#sk-container-id-1 div.sk-parallel-item::after {\n",
       "  content: \"\";\n",
       "  width: 100%;\n",
       "  border-bottom: 2px solid var(--sklearn-color-text-on-default-background);\n",
       "  flex-grow: 1;\n",
       "}\n",
       "\n",
       "#sk-container-id-1 div.sk-parallel {\n",
       "  display: flex;\n",
       "  align-items: stretch;\n",
       "  justify-content: center;\n",
       "  background-color: var(--sklearn-color-background);\n",
       "  position: relative;\n",
       "}\n",
       "\n",
       "#sk-container-id-1 div.sk-parallel-item {\n",
       "  display: flex;\n",
       "  flex-direction: column;\n",
       "}\n",
       "\n",
       "#sk-container-id-1 div.sk-parallel-item:first-child::after {\n",
       "  align-self: flex-end;\n",
       "  width: 50%;\n",
       "}\n",
       "\n",
       "#sk-container-id-1 div.sk-parallel-item:last-child::after {\n",
       "  align-self: flex-start;\n",
       "  width: 50%;\n",
       "}\n",
       "\n",
       "#sk-container-id-1 div.sk-parallel-item:only-child::after {\n",
       "  width: 0;\n",
       "}\n",
       "\n",
       "/* Serial-specific style estimator block */\n",
       "\n",
       "#sk-container-id-1 div.sk-serial {\n",
       "  display: flex;\n",
       "  flex-direction: column;\n",
       "  align-items: center;\n",
       "  background-color: var(--sklearn-color-background);\n",
       "  padding-right: 1em;\n",
       "  padding-left: 1em;\n",
       "}\n",
       "\n",
       "\n",
       "/* Toggleable style: style used for estimator/Pipeline/ColumnTransformer box that is\n",
       "clickable and can be expanded/collapsed.\n",
       "- Pipeline and ColumnTransformer use this feature and define the default style\n",
       "- Estimators will overwrite some part of the style using the `sk-estimator` class\n",
       "*/\n",
       "\n",
       "/* Pipeline and ColumnTransformer style (default) */\n",
       "\n",
       "#sk-container-id-1 div.sk-toggleable {\n",
       "  /* Default theme specific background. It is overwritten whether we have a\n",
       "  specific estimator or a Pipeline/ColumnTransformer */\n",
       "  background-color: var(--sklearn-color-background);\n",
       "}\n",
       "\n",
       "/* Toggleable label */\n",
       "#sk-container-id-1 label.sk-toggleable__label {\n",
       "  cursor: pointer;\n",
       "  display: block;\n",
       "  width: 100%;\n",
       "  margin-bottom: 0;\n",
       "  padding: 0.5em;\n",
       "  box-sizing: border-box;\n",
       "  text-align: center;\n",
       "}\n",
       "\n",
       "#sk-container-id-1 label.sk-toggleable__label-arrow:before {\n",
       "  /* Arrow on the left of the label */\n",
       "  content: \"▸\";\n",
       "  float: left;\n",
       "  margin-right: 0.25em;\n",
       "  color: var(--sklearn-color-icon);\n",
       "}\n",
       "\n",
       "#sk-container-id-1 label.sk-toggleable__label-arrow:hover:before {\n",
       "  color: var(--sklearn-color-text);\n",
       "}\n",
       "\n",
       "/* Toggleable content - dropdown */\n",
       "\n",
       "#sk-container-id-1 div.sk-toggleable__content {\n",
       "  max-height: 0;\n",
       "  max-width: 0;\n",
       "  overflow: hidden;\n",
       "  text-align: left;\n",
       "  /* unfitted */\n",
       "  background-color: var(--sklearn-color-unfitted-level-0);\n",
       "}\n",
       "\n",
       "#sk-container-id-1 div.sk-toggleable__content.fitted {\n",
       "  /* fitted */\n",
       "  background-color: var(--sklearn-color-fitted-level-0);\n",
       "}\n",
       "\n",
       "#sk-container-id-1 div.sk-toggleable__content pre {\n",
       "  margin: 0.2em;\n",
       "  border-radius: 0.25em;\n",
       "  color: var(--sklearn-color-text);\n",
       "  /* unfitted */\n",
       "  background-color: var(--sklearn-color-unfitted-level-0);\n",
       "}\n",
       "\n",
       "#sk-container-id-1 div.sk-toggleable__content.fitted pre {\n",
       "  /* unfitted */\n",
       "  background-color: var(--sklearn-color-fitted-level-0);\n",
       "}\n",
       "\n",
       "#sk-container-id-1 input.sk-toggleable__control:checked~div.sk-toggleable__content {\n",
       "  /* Expand drop-down */\n",
       "  max-height: 200px;\n",
       "  max-width: 100%;\n",
       "  overflow: auto;\n",
       "}\n",
       "\n",
       "#sk-container-id-1 input.sk-toggleable__control:checked~label.sk-toggleable__label-arrow:before {\n",
       "  content: \"▾\";\n",
       "}\n",
       "\n",
       "/* Pipeline/ColumnTransformer-specific style */\n",
       "\n",
       "#sk-container-id-1 div.sk-label input.sk-toggleable__control:checked~label.sk-toggleable__label {\n",
       "  color: var(--sklearn-color-text);\n",
       "  background-color: var(--sklearn-color-unfitted-level-2);\n",
       "}\n",
       "\n",
       "#sk-container-id-1 div.sk-label.fitted input.sk-toggleable__control:checked~label.sk-toggleable__label {\n",
       "  background-color: var(--sklearn-color-fitted-level-2);\n",
       "}\n",
       "\n",
       "/* Estimator-specific style */\n",
       "\n",
       "/* Colorize estimator box */\n",
       "#sk-container-id-1 div.sk-estimator input.sk-toggleable__control:checked~label.sk-toggleable__label {\n",
       "  /* unfitted */\n",
       "  background-color: var(--sklearn-color-unfitted-level-2);\n",
       "}\n",
       "\n",
       "#sk-container-id-1 div.sk-estimator.fitted input.sk-toggleable__control:checked~label.sk-toggleable__label {\n",
       "  /* fitted */\n",
       "  background-color: var(--sklearn-color-fitted-level-2);\n",
       "}\n",
       "\n",
       "#sk-container-id-1 div.sk-label label.sk-toggleable__label,\n",
       "#sk-container-id-1 div.sk-label label {\n",
       "  /* The background is the default theme color */\n",
       "  color: var(--sklearn-color-text-on-default-background);\n",
       "}\n",
       "\n",
       "/* On hover, darken the color of the background */\n",
       "#sk-container-id-1 div.sk-label:hover label.sk-toggleable__label {\n",
       "  color: var(--sklearn-color-text);\n",
       "  background-color: var(--sklearn-color-unfitted-level-2);\n",
       "}\n",
       "\n",
       "/* Label box, darken color on hover, fitted */\n",
       "#sk-container-id-1 div.sk-label.fitted:hover label.sk-toggleable__label.fitted {\n",
       "  color: var(--sklearn-color-text);\n",
       "  background-color: var(--sklearn-color-fitted-level-2);\n",
       "}\n",
       "\n",
       "/* Estimator label */\n",
       "\n",
       "#sk-container-id-1 div.sk-label label {\n",
       "  font-family: monospace;\n",
       "  font-weight: bold;\n",
       "  display: inline-block;\n",
       "  line-height: 1.2em;\n",
       "}\n",
       "\n",
       "#sk-container-id-1 div.sk-label-container {\n",
       "  text-align: center;\n",
       "}\n",
       "\n",
       "/* Estimator-specific */\n",
       "#sk-container-id-1 div.sk-estimator {\n",
       "  font-family: monospace;\n",
       "  border: 1px dotted var(--sklearn-color-border-box);\n",
       "  border-radius: 0.25em;\n",
       "  box-sizing: border-box;\n",
       "  margin-bottom: 0.5em;\n",
       "  /* unfitted */\n",
       "  background-color: var(--sklearn-color-unfitted-level-0);\n",
       "}\n",
       "\n",
       "#sk-container-id-1 div.sk-estimator.fitted {\n",
       "  /* fitted */\n",
       "  background-color: var(--sklearn-color-fitted-level-0);\n",
       "}\n",
       "\n",
       "/* on hover */\n",
       "#sk-container-id-1 div.sk-estimator:hover {\n",
       "  /* unfitted */\n",
       "  background-color: var(--sklearn-color-unfitted-level-2);\n",
       "}\n",
       "\n",
       "#sk-container-id-1 div.sk-estimator.fitted:hover {\n",
       "  /* fitted */\n",
       "  background-color: var(--sklearn-color-fitted-level-2);\n",
       "}\n",
       "\n",
       "/* Specification for estimator info (e.g. \"i\" and \"?\") */\n",
       "\n",
       "/* Common style for \"i\" and \"?\" */\n",
       "\n",
       ".sk-estimator-doc-link,\n",
       "a:link.sk-estimator-doc-link,\n",
       "a:visited.sk-estimator-doc-link {\n",
       "  float: right;\n",
       "  font-size: smaller;\n",
       "  line-height: 1em;\n",
       "  font-family: monospace;\n",
       "  background-color: var(--sklearn-color-background);\n",
       "  border-radius: 1em;\n",
       "  height: 1em;\n",
       "  width: 1em;\n",
       "  text-decoration: none !important;\n",
       "  margin-left: 1ex;\n",
       "  /* unfitted */\n",
       "  border: var(--sklearn-color-unfitted-level-1) 1pt solid;\n",
       "  color: var(--sklearn-color-unfitted-level-1);\n",
       "}\n",
       "\n",
       ".sk-estimator-doc-link.fitted,\n",
       "a:link.sk-estimator-doc-link.fitted,\n",
       "a:visited.sk-estimator-doc-link.fitted {\n",
       "  /* fitted */\n",
       "  border: var(--sklearn-color-fitted-level-1) 1pt solid;\n",
       "  color: var(--sklearn-color-fitted-level-1);\n",
       "}\n",
       "\n",
       "/* On hover */\n",
       "div.sk-estimator:hover .sk-estimator-doc-link:hover,\n",
       ".sk-estimator-doc-link:hover,\n",
       "div.sk-label-container:hover .sk-estimator-doc-link:hover,\n",
       ".sk-estimator-doc-link:hover {\n",
       "  /* unfitted */\n",
       "  background-color: var(--sklearn-color-unfitted-level-3);\n",
       "  color: var(--sklearn-color-background);\n",
       "  text-decoration: none;\n",
       "}\n",
       "\n",
       "div.sk-estimator.fitted:hover .sk-estimator-doc-link.fitted:hover,\n",
       ".sk-estimator-doc-link.fitted:hover,\n",
       "div.sk-label-container:hover .sk-estimator-doc-link.fitted:hover,\n",
       ".sk-estimator-doc-link.fitted:hover {\n",
       "  /* fitted */\n",
       "  background-color: var(--sklearn-color-fitted-level-3);\n",
       "  color: var(--sklearn-color-background);\n",
       "  text-decoration: none;\n",
       "}\n",
       "\n",
       "/* Span, style for the box shown on hovering the info icon */\n",
       ".sk-estimator-doc-link span {\n",
       "  display: none;\n",
       "  z-index: 9999;\n",
       "  position: relative;\n",
       "  font-weight: normal;\n",
       "  right: .2ex;\n",
       "  padding: .5ex;\n",
       "  margin: .5ex;\n",
       "  width: min-content;\n",
       "  min-width: 20ex;\n",
       "  max-width: 50ex;\n",
       "  color: var(--sklearn-color-text);\n",
       "  box-shadow: 2pt 2pt 4pt #999;\n",
       "  /* unfitted */\n",
       "  background: var(--sklearn-color-unfitted-level-0);\n",
       "  border: .5pt solid var(--sklearn-color-unfitted-level-3);\n",
       "}\n",
       "\n",
       ".sk-estimator-doc-link.fitted span {\n",
       "  /* fitted */\n",
       "  background: var(--sklearn-color-fitted-level-0);\n",
       "  border: var(--sklearn-color-fitted-level-3);\n",
       "}\n",
       "\n",
       ".sk-estimator-doc-link:hover span {\n",
       "  display: block;\n",
       "}\n",
       "\n",
       "/* \"?\"-specific style due to the `<a>` HTML tag */\n",
       "\n",
       "#sk-container-id-1 a.estimator_doc_link {\n",
       "  float: right;\n",
       "  font-size: 1rem;\n",
       "  line-height: 1em;\n",
       "  font-family: monospace;\n",
       "  background-color: var(--sklearn-color-background);\n",
       "  border-radius: 1rem;\n",
       "  height: 1rem;\n",
       "  width: 1rem;\n",
       "  text-decoration: none;\n",
       "  /* unfitted */\n",
       "  color: var(--sklearn-color-unfitted-level-1);\n",
       "  border: var(--sklearn-color-unfitted-level-1) 1pt solid;\n",
       "}\n",
       "\n",
       "#sk-container-id-1 a.estimator_doc_link.fitted {\n",
       "  /* fitted */\n",
       "  border: var(--sklearn-color-fitted-level-1) 1pt solid;\n",
       "  color: var(--sklearn-color-fitted-level-1);\n",
       "}\n",
       "\n",
       "/* On hover */\n",
       "#sk-container-id-1 a.estimator_doc_link:hover {\n",
       "  /* unfitted */\n",
       "  background-color: var(--sklearn-color-unfitted-level-3);\n",
       "  color: var(--sklearn-color-background);\n",
       "  text-decoration: none;\n",
       "}\n",
       "\n",
       "#sk-container-id-1 a.estimator_doc_link.fitted:hover {\n",
       "  /* fitted */\n",
       "  background-color: var(--sklearn-color-fitted-level-3);\n",
       "}\n",
       "</style><div id=\"sk-container-id-1\" class=\"sk-top-container\"><div class=\"sk-text-repr-fallback\"><pre>RandomForestClassifier(n_estimators=20, random_state=0)</pre><b>In a Jupyter environment, please rerun this cell to show the HTML representation or trust the notebook. <br />On GitHub, the HTML representation is unable to render, please try loading this page with nbviewer.org.</b></div><div class=\"sk-container\" hidden><div class=\"sk-item\"><div class=\"sk-estimator fitted sk-toggleable\"><input class=\"sk-toggleable__control sk-hidden--visually\" id=\"sk-estimator-id-1\" type=\"checkbox\" checked><label for=\"sk-estimator-id-1\" class=\"sk-toggleable__label fitted sk-toggleable__label-arrow fitted\">&nbsp;&nbsp;RandomForestClassifier<a class=\"sk-estimator-doc-link fitted\" rel=\"noreferrer\" target=\"_blank\" href=\"https://scikit-learn.org/1.5/modules/generated/sklearn.ensemble.RandomForestClassifier.html\">?<span>Documentation for RandomForestClassifier</span></a><span class=\"sk-estimator-doc-link fitted\">i<span>Fitted</span></span></label><div class=\"sk-toggleable__content fitted\"><pre>RandomForestClassifier(n_estimators=20, random_state=0)</pre></div> </div></div></div></div>"
      ],
      "text/plain": [
       "RandomForestClassifier(n_estimators=20, random_state=0)"
      ]
     },
     "execution_count": 69,
     "metadata": {},
     "output_type": "execute_result"
    }
   ],
   "source": [
    "rf.fit(x_train,y_train)"
   ]
  },
  {
   "cell_type": "code",
   "execution_count": 70,
   "id": "136e6345-40b4-4ec2-af49-78f1f6aadf8f",
   "metadata": {},
   "outputs": [],
   "source": [
    "y_pred=rf.predict(x_test)"
   ]
  },
  {
   "cell_type": "code",
   "execution_count": 71,
   "id": "2b404ab5-61cb-4197-9548-24892c8d7d9f",
   "metadata": {},
   "outputs": [
    {
     "data": {
      "text/plain": [
       "0.6752873563218391"
      ]
     },
     "execution_count": 71,
     "metadata": {},
     "output_type": "execute_result"
    }
   ],
   "source": [
    "from sklearn.metrics import accuracy_score\n",
    "accuracy_score(y_test,y_pred)"
   ]
  },
  {
   "cell_type": "code",
   "execution_count": 72,
   "id": "389e2ae9-e786-456b-9cd0-9ee1a985783e",
   "metadata": {},
   "outputs": [],
   "source": [
    "params = {\n",
    "    'random_state': [0, 42],\n",
    "    'criterion': ['gini', 'entropy'],\n",
    "    'max_features': ['sqrt', 'log2'],\n",
    "    'max_depth': [3, 5, 10],  # Added max_depth for better tuning\n",
    "    'min_samples_split': [2, 5, 10]  # Optional but useful\n",
    "}"
   ]
  },
  {
   "cell_type": "code",
   "execution_count": 73,
   "id": "92930728-4e29-4e1b-a3d7-e82a1eb84245",
   "metadata": {},
   "outputs": [],
   "source": [
    "#grid search cv\n",
    "from sklearn.model_selection import GridSearchCV"
   ]
  },
  {
   "cell_type": "code",
   "execution_count": 74,
   "id": "229800b0-c4dd-4a2f-adfe-7cede7beea93",
   "metadata": {},
   "outputs": [],
   "source": [
    "grid = GridSearchCV(estimator = RandomForestClassifier(),\n",
    "                   param_grid = params,\n",
    "                   scoring = 'accuracy',cv=5)"
   ]
  },
  {
   "cell_type": "code",
   "execution_count": 75,
   "id": "73750ba1-73b1-4b62-8847-a864f0ea780f",
   "metadata": {},
   "outputs": [
    {
     "data": {
      "text/html": [
       "<style>#sk-container-id-2 {\n",
       "  /* Definition of color scheme common for light and dark mode */\n",
       "  --sklearn-color-text: black;\n",
       "  --sklearn-color-line: gray;\n",
       "  /* Definition of color scheme for unfitted estimators */\n",
       "  --sklearn-color-unfitted-level-0: #fff5e6;\n",
       "  --sklearn-color-unfitted-level-1: #f6e4d2;\n",
       "  --sklearn-color-unfitted-level-2: #ffe0b3;\n",
       "  --sklearn-color-unfitted-level-3: chocolate;\n",
       "  /* Definition of color scheme for fitted estimators */\n",
       "  --sklearn-color-fitted-level-0: #f0f8ff;\n",
       "  --sklearn-color-fitted-level-1: #d4ebff;\n",
       "  --sklearn-color-fitted-level-2: #b3dbfd;\n",
       "  --sklearn-color-fitted-level-3: cornflowerblue;\n",
       "\n",
       "  /* Specific color for light theme */\n",
       "  --sklearn-color-text-on-default-background: var(--sg-text-color, var(--theme-code-foreground, var(--jp-content-font-color1, black)));\n",
       "  --sklearn-color-background: var(--sg-background-color, var(--theme-background, var(--jp-layout-color0, white)));\n",
       "  --sklearn-color-border-box: var(--sg-text-color, var(--theme-code-foreground, var(--jp-content-font-color1, black)));\n",
       "  --sklearn-color-icon: #696969;\n",
       "\n",
       "  @media (prefers-color-scheme: dark) {\n",
       "    /* Redefinition of color scheme for dark theme */\n",
       "    --sklearn-color-text-on-default-background: var(--sg-text-color, var(--theme-code-foreground, var(--jp-content-font-color1, white)));\n",
       "    --sklearn-color-background: var(--sg-background-color, var(--theme-background, var(--jp-layout-color0, #111)));\n",
       "    --sklearn-color-border-box: var(--sg-text-color, var(--theme-code-foreground, var(--jp-content-font-color1, white)));\n",
       "    --sklearn-color-icon: #878787;\n",
       "  }\n",
       "}\n",
       "\n",
       "#sk-container-id-2 {\n",
       "  color: var(--sklearn-color-text);\n",
       "}\n",
       "\n",
       "#sk-container-id-2 pre {\n",
       "  padding: 0;\n",
       "}\n",
       "\n",
       "#sk-container-id-2 input.sk-hidden--visually {\n",
       "  border: 0;\n",
       "  clip: rect(1px 1px 1px 1px);\n",
       "  clip: rect(1px, 1px, 1px, 1px);\n",
       "  height: 1px;\n",
       "  margin: -1px;\n",
       "  overflow: hidden;\n",
       "  padding: 0;\n",
       "  position: absolute;\n",
       "  width: 1px;\n",
       "}\n",
       "\n",
       "#sk-container-id-2 div.sk-dashed-wrapped {\n",
       "  border: 1px dashed var(--sklearn-color-line);\n",
       "  margin: 0 0.4em 0.5em 0.4em;\n",
       "  box-sizing: border-box;\n",
       "  padding-bottom: 0.4em;\n",
       "  background-color: var(--sklearn-color-background);\n",
       "}\n",
       "\n",
       "#sk-container-id-2 div.sk-container {\n",
       "  /* jupyter's `normalize.less` sets `[hidden] { display: none; }`\n",
       "     but bootstrap.min.css set `[hidden] { display: none !important; }`\n",
       "     so we also need the `!important` here to be able to override the\n",
       "     default hidden behavior on the sphinx rendered scikit-learn.org.\n",
       "     See: https://github.com/scikit-learn/scikit-learn/issues/21755 */\n",
       "  display: inline-block !important;\n",
       "  position: relative;\n",
       "}\n",
       "\n",
       "#sk-container-id-2 div.sk-text-repr-fallback {\n",
       "  display: none;\n",
       "}\n",
       "\n",
       "div.sk-parallel-item,\n",
       "div.sk-serial,\n",
       "div.sk-item {\n",
       "  /* draw centered vertical line to link estimators */\n",
       "  background-image: linear-gradient(var(--sklearn-color-text-on-default-background), var(--sklearn-color-text-on-default-background));\n",
       "  background-size: 2px 100%;\n",
       "  background-repeat: no-repeat;\n",
       "  background-position: center center;\n",
       "}\n",
       "\n",
       "/* Parallel-specific style estimator block */\n",
       "\n",
       "#sk-container-id-2 div.sk-parallel-item::after {\n",
       "  content: \"\";\n",
       "  width: 100%;\n",
       "  border-bottom: 2px solid var(--sklearn-color-text-on-default-background);\n",
       "  flex-grow: 1;\n",
       "}\n",
       "\n",
       "#sk-container-id-2 div.sk-parallel {\n",
       "  display: flex;\n",
       "  align-items: stretch;\n",
       "  justify-content: center;\n",
       "  background-color: var(--sklearn-color-background);\n",
       "  position: relative;\n",
       "}\n",
       "\n",
       "#sk-container-id-2 div.sk-parallel-item {\n",
       "  display: flex;\n",
       "  flex-direction: column;\n",
       "}\n",
       "\n",
       "#sk-container-id-2 div.sk-parallel-item:first-child::after {\n",
       "  align-self: flex-end;\n",
       "  width: 50%;\n",
       "}\n",
       "\n",
       "#sk-container-id-2 div.sk-parallel-item:last-child::after {\n",
       "  align-self: flex-start;\n",
       "  width: 50%;\n",
       "}\n",
       "\n",
       "#sk-container-id-2 div.sk-parallel-item:only-child::after {\n",
       "  width: 0;\n",
       "}\n",
       "\n",
       "/* Serial-specific style estimator block */\n",
       "\n",
       "#sk-container-id-2 div.sk-serial {\n",
       "  display: flex;\n",
       "  flex-direction: column;\n",
       "  align-items: center;\n",
       "  background-color: var(--sklearn-color-background);\n",
       "  padding-right: 1em;\n",
       "  padding-left: 1em;\n",
       "}\n",
       "\n",
       "\n",
       "/* Toggleable style: style used for estimator/Pipeline/ColumnTransformer box that is\n",
       "clickable and can be expanded/collapsed.\n",
       "- Pipeline and ColumnTransformer use this feature and define the default style\n",
       "- Estimators will overwrite some part of the style using the `sk-estimator` class\n",
       "*/\n",
       "\n",
       "/* Pipeline and ColumnTransformer style (default) */\n",
       "\n",
       "#sk-container-id-2 div.sk-toggleable {\n",
       "  /* Default theme specific background. It is overwritten whether we have a\n",
       "  specific estimator or a Pipeline/ColumnTransformer */\n",
       "  background-color: var(--sklearn-color-background);\n",
       "}\n",
       "\n",
       "/* Toggleable label */\n",
       "#sk-container-id-2 label.sk-toggleable__label {\n",
       "  cursor: pointer;\n",
       "  display: block;\n",
       "  width: 100%;\n",
       "  margin-bottom: 0;\n",
       "  padding: 0.5em;\n",
       "  box-sizing: border-box;\n",
       "  text-align: center;\n",
       "}\n",
       "\n",
       "#sk-container-id-2 label.sk-toggleable__label-arrow:before {\n",
       "  /* Arrow on the left of the label */\n",
       "  content: \"▸\";\n",
       "  float: left;\n",
       "  margin-right: 0.25em;\n",
       "  color: var(--sklearn-color-icon);\n",
       "}\n",
       "\n",
       "#sk-container-id-2 label.sk-toggleable__label-arrow:hover:before {\n",
       "  color: var(--sklearn-color-text);\n",
       "}\n",
       "\n",
       "/* Toggleable content - dropdown */\n",
       "\n",
       "#sk-container-id-2 div.sk-toggleable__content {\n",
       "  max-height: 0;\n",
       "  max-width: 0;\n",
       "  overflow: hidden;\n",
       "  text-align: left;\n",
       "  /* unfitted */\n",
       "  background-color: var(--sklearn-color-unfitted-level-0);\n",
       "}\n",
       "\n",
       "#sk-container-id-2 div.sk-toggleable__content.fitted {\n",
       "  /* fitted */\n",
       "  background-color: var(--sklearn-color-fitted-level-0);\n",
       "}\n",
       "\n",
       "#sk-container-id-2 div.sk-toggleable__content pre {\n",
       "  margin: 0.2em;\n",
       "  border-radius: 0.25em;\n",
       "  color: var(--sklearn-color-text);\n",
       "  /* unfitted */\n",
       "  background-color: var(--sklearn-color-unfitted-level-0);\n",
       "}\n",
       "\n",
       "#sk-container-id-2 div.sk-toggleable__content.fitted pre {\n",
       "  /* unfitted */\n",
       "  background-color: var(--sklearn-color-fitted-level-0);\n",
       "}\n",
       "\n",
       "#sk-container-id-2 input.sk-toggleable__control:checked~div.sk-toggleable__content {\n",
       "  /* Expand drop-down */\n",
       "  max-height: 200px;\n",
       "  max-width: 100%;\n",
       "  overflow: auto;\n",
       "}\n",
       "\n",
       "#sk-container-id-2 input.sk-toggleable__control:checked~label.sk-toggleable__label-arrow:before {\n",
       "  content: \"▾\";\n",
       "}\n",
       "\n",
       "/* Pipeline/ColumnTransformer-specific style */\n",
       "\n",
       "#sk-container-id-2 div.sk-label input.sk-toggleable__control:checked~label.sk-toggleable__label {\n",
       "  color: var(--sklearn-color-text);\n",
       "  background-color: var(--sklearn-color-unfitted-level-2);\n",
       "}\n",
       "\n",
       "#sk-container-id-2 div.sk-label.fitted input.sk-toggleable__control:checked~label.sk-toggleable__label {\n",
       "  background-color: var(--sklearn-color-fitted-level-2);\n",
       "}\n",
       "\n",
       "/* Estimator-specific style */\n",
       "\n",
       "/* Colorize estimator box */\n",
       "#sk-container-id-2 div.sk-estimator input.sk-toggleable__control:checked~label.sk-toggleable__label {\n",
       "  /* unfitted */\n",
       "  background-color: var(--sklearn-color-unfitted-level-2);\n",
       "}\n",
       "\n",
       "#sk-container-id-2 div.sk-estimator.fitted input.sk-toggleable__control:checked~label.sk-toggleable__label {\n",
       "  /* fitted */\n",
       "  background-color: var(--sklearn-color-fitted-level-2);\n",
       "}\n",
       "\n",
       "#sk-container-id-2 div.sk-label label.sk-toggleable__label,\n",
       "#sk-container-id-2 div.sk-label label {\n",
       "  /* The background is the default theme color */\n",
       "  color: var(--sklearn-color-text-on-default-background);\n",
       "}\n",
       "\n",
       "/* On hover, darken the color of the background */\n",
       "#sk-container-id-2 div.sk-label:hover label.sk-toggleable__label {\n",
       "  color: var(--sklearn-color-text);\n",
       "  background-color: var(--sklearn-color-unfitted-level-2);\n",
       "}\n",
       "\n",
       "/* Label box, darken color on hover, fitted */\n",
       "#sk-container-id-2 div.sk-label.fitted:hover label.sk-toggleable__label.fitted {\n",
       "  color: var(--sklearn-color-text);\n",
       "  background-color: var(--sklearn-color-fitted-level-2);\n",
       "}\n",
       "\n",
       "/* Estimator label */\n",
       "\n",
       "#sk-container-id-2 div.sk-label label {\n",
       "  font-family: monospace;\n",
       "  font-weight: bold;\n",
       "  display: inline-block;\n",
       "  line-height: 1.2em;\n",
       "}\n",
       "\n",
       "#sk-container-id-2 div.sk-label-container {\n",
       "  text-align: center;\n",
       "}\n",
       "\n",
       "/* Estimator-specific */\n",
       "#sk-container-id-2 div.sk-estimator {\n",
       "  font-family: monospace;\n",
       "  border: 1px dotted var(--sklearn-color-border-box);\n",
       "  border-radius: 0.25em;\n",
       "  box-sizing: border-box;\n",
       "  margin-bottom: 0.5em;\n",
       "  /* unfitted */\n",
       "  background-color: var(--sklearn-color-unfitted-level-0);\n",
       "}\n",
       "\n",
       "#sk-container-id-2 div.sk-estimator.fitted {\n",
       "  /* fitted */\n",
       "  background-color: var(--sklearn-color-fitted-level-0);\n",
       "}\n",
       "\n",
       "/* on hover */\n",
       "#sk-container-id-2 div.sk-estimator:hover {\n",
       "  /* unfitted */\n",
       "  background-color: var(--sklearn-color-unfitted-level-2);\n",
       "}\n",
       "\n",
       "#sk-container-id-2 div.sk-estimator.fitted:hover {\n",
       "  /* fitted */\n",
       "  background-color: var(--sklearn-color-fitted-level-2);\n",
       "}\n",
       "\n",
       "/* Specification for estimator info (e.g. \"i\" and \"?\") */\n",
       "\n",
       "/* Common style for \"i\" and \"?\" */\n",
       "\n",
       ".sk-estimator-doc-link,\n",
       "a:link.sk-estimator-doc-link,\n",
       "a:visited.sk-estimator-doc-link {\n",
       "  float: right;\n",
       "  font-size: smaller;\n",
       "  line-height: 1em;\n",
       "  font-family: monospace;\n",
       "  background-color: var(--sklearn-color-background);\n",
       "  border-radius: 1em;\n",
       "  height: 1em;\n",
       "  width: 1em;\n",
       "  text-decoration: none !important;\n",
       "  margin-left: 1ex;\n",
       "  /* unfitted */\n",
       "  border: var(--sklearn-color-unfitted-level-1) 1pt solid;\n",
       "  color: var(--sklearn-color-unfitted-level-1);\n",
       "}\n",
       "\n",
       ".sk-estimator-doc-link.fitted,\n",
       "a:link.sk-estimator-doc-link.fitted,\n",
       "a:visited.sk-estimator-doc-link.fitted {\n",
       "  /* fitted */\n",
       "  border: var(--sklearn-color-fitted-level-1) 1pt solid;\n",
       "  color: var(--sklearn-color-fitted-level-1);\n",
       "}\n",
       "\n",
       "/* On hover */\n",
       "div.sk-estimator:hover .sk-estimator-doc-link:hover,\n",
       ".sk-estimator-doc-link:hover,\n",
       "div.sk-label-container:hover .sk-estimator-doc-link:hover,\n",
       ".sk-estimator-doc-link:hover {\n",
       "  /* unfitted */\n",
       "  background-color: var(--sklearn-color-unfitted-level-3);\n",
       "  color: var(--sklearn-color-background);\n",
       "  text-decoration: none;\n",
       "}\n",
       "\n",
       "div.sk-estimator.fitted:hover .sk-estimator-doc-link.fitted:hover,\n",
       ".sk-estimator-doc-link.fitted:hover,\n",
       "div.sk-label-container:hover .sk-estimator-doc-link.fitted:hover,\n",
       ".sk-estimator-doc-link.fitted:hover {\n",
       "  /* fitted */\n",
       "  background-color: var(--sklearn-color-fitted-level-3);\n",
       "  color: var(--sklearn-color-background);\n",
       "  text-decoration: none;\n",
       "}\n",
       "\n",
       "/* Span, style for the box shown on hovering the info icon */\n",
       ".sk-estimator-doc-link span {\n",
       "  display: none;\n",
       "  z-index: 9999;\n",
       "  position: relative;\n",
       "  font-weight: normal;\n",
       "  right: .2ex;\n",
       "  padding: .5ex;\n",
       "  margin: .5ex;\n",
       "  width: min-content;\n",
       "  min-width: 20ex;\n",
       "  max-width: 50ex;\n",
       "  color: var(--sklearn-color-text);\n",
       "  box-shadow: 2pt 2pt 4pt #999;\n",
       "  /* unfitted */\n",
       "  background: var(--sklearn-color-unfitted-level-0);\n",
       "  border: .5pt solid var(--sklearn-color-unfitted-level-3);\n",
       "}\n",
       "\n",
       ".sk-estimator-doc-link.fitted span {\n",
       "  /* fitted */\n",
       "  background: var(--sklearn-color-fitted-level-0);\n",
       "  border: var(--sklearn-color-fitted-level-3);\n",
       "}\n",
       "\n",
       ".sk-estimator-doc-link:hover span {\n",
       "  display: block;\n",
       "}\n",
       "\n",
       "/* \"?\"-specific style due to the `<a>` HTML tag */\n",
       "\n",
       "#sk-container-id-2 a.estimator_doc_link {\n",
       "  float: right;\n",
       "  font-size: 1rem;\n",
       "  line-height: 1em;\n",
       "  font-family: monospace;\n",
       "  background-color: var(--sklearn-color-background);\n",
       "  border-radius: 1rem;\n",
       "  height: 1rem;\n",
       "  width: 1rem;\n",
       "  text-decoration: none;\n",
       "  /* unfitted */\n",
       "  color: var(--sklearn-color-unfitted-level-1);\n",
       "  border: var(--sklearn-color-unfitted-level-1) 1pt solid;\n",
       "}\n",
       "\n",
       "#sk-container-id-2 a.estimator_doc_link.fitted {\n",
       "  /* fitted */\n",
       "  border: var(--sklearn-color-fitted-level-1) 1pt solid;\n",
       "  color: var(--sklearn-color-fitted-level-1);\n",
       "}\n",
       "\n",
       "/* On hover */\n",
       "#sk-container-id-2 a.estimator_doc_link:hover {\n",
       "  /* unfitted */\n",
       "  background-color: var(--sklearn-color-unfitted-level-3);\n",
       "  color: var(--sklearn-color-background);\n",
       "  text-decoration: none;\n",
       "}\n",
       "\n",
       "#sk-container-id-2 a.estimator_doc_link.fitted:hover {\n",
       "  /* fitted */\n",
       "  background-color: var(--sklearn-color-fitted-level-3);\n",
       "}\n",
       "</style><div id=\"sk-container-id-2\" class=\"sk-top-container\"><div class=\"sk-text-repr-fallback\"><pre>GridSearchCV(cv=5, estimator=RandomForestClassifier(),\n",
       "             param_grid={&#x27;criterion&#x27;: [&#x27;gini&#x27;, &#x27;entropy&#x27;],\n",
       "                         &#x27;max_depth&#x27;: [3, 5, 10],\n",
       "                         &#x27;max_features&#x27;: [&#x27;sqrt&#x27;, &#x27;log2&#x27;],\n",
       "                         &#x27;min_samples_split&#x27;: [2, 5, 10],\n",
       "                         &#x27;random_state&#x27;: [0, 42]},\n",
       "             scoring=&#x27;accuracy&#x27;)</pre><b>In a Jupyter environment, please rerun this cell to show the HTML representation or trust the notebook. <br />On GitHub, the HTML representation is unable to render, please try loading this page with nbviewer.org.</b></div><div class=\"sk-container\" hidden><div class=\"sk-item sk-dashed-wrapped\"><div class=\"sk-label-container\"><div class=\"sk-label fitted sk-toggleable\"><input class=\"sk-toggleable__control sk-hidden--visually\" id=\"sk-estimator-id-2\" type=\"checkbox\" ><label for=\"sk-estimator-id-2\" class=\"sk-toggleable__label fitted sk-toggleable__label-arrow fitted\">&nbsp;&nbsp;GridSearchCV<a class=\"sk-estimator-doc-link fitted\" rel=\"noreferrer\" target=\"_blank\" href=\"https://scikit-learn.org/1.5/modules/generated/sklearn.model_selection.GridSearchCV.html\">?<span>Documentation for GridSearchCV</span></a><span class=\"sk-estimator-doc-link fitted\">i<span>Fitted</span></span></label><div class=\"sk-toggleable__content fitted\"><pre>GridSearchCV(cv=5, estimator=RandomForestClassifier(),\n",
       "             param_grid={&#x27;criterion&#x27;: [&#x27;gini&#x27;, &#x27;entropy&#x27;],\n",
       "                         &#x27;max_depth&#x27;: [3, 5, 10],\n",
       "                         &#x27;max_features&#x27;: [&#x27;sqrt&#x27;, &#x27;log2&#x27;],\n",
       "                         &#x27;min_samples_split&#x27;: [2, 5, 10],\n",
       "                         &#x27;random_state&#x27;: [0, 42]},\n",
       "             scoring=&#x27;accuracy&#x27;)</pre></div> </div></div><div class=\"sk-parallel\"><div class=\"sk-parallel-item\"><div class=\"sk-item\"><div class=\"sk-label-container\"><div class=\"sk-label fitted sk-toggleable\"><input class=\"sk-toggleable__control sk-hidden--visually\" id=\"sk-estimator-id-3\" type=\"checkbox\" ><label for=\"sk-estimator-id-3\" class=\"sk-toggleable__label fitted sk-toggleable__label-arrow fitted\">best_estimator_: RandomForestClassifier</label><div class=\"sk-toggleable__content fitted\"><pre>RandomForestClassifier(max_depth=10, min_samples_split=5, random_state=0)</pre></div> </div></div><div class=\"sk-serial\"><div class=\"sk-item\"><div class=\"sk-estimator fitted sk-toggleable\"><input class=\"sk-toggleable__control sk-hidden--visually\" id=\"sk-estimator-id-4\" type=\"checkbox\" ><label for=\"sk-estimator-id-4\" class=\"sk-toggleable__label fitted sk-toggleable__label-arrow fitted\">&nbsp;RandomForestClassifier<a class=\"sk-estimator-doc-link fitted\" rel=\"noreferrer\" target=\"_blank\" href=\"https://scikit-learn.org/1.5/modules/generated/sklearn.ensemble.RandomForestClassifier.html\">?<span>Documentation for RandomForestClassifier</span></a></label><div class=\"sk-toggleable__content fitted\"><pre>RandomForestClassifier(max_depth=10, min_samples_split=5, random_state=0)</pre></div> </div></div></div></div></div></div></div></div></div>"
      ],
      "text/plain": [
       "GridSearchCV(cv=5, estimator=RandomForestClassifier(),\n",
       "             param_grid={'criterion': ['gini', 'entropy'],\n",
       "                         'max_depth': [3, 5, 10],\n",
       "                         'max_features': ['sqrt', 'log2'],\n",
       "                         'min_samples_split': [2, 5, 10],\n",
       "                         'random_state': [0, 42]},\n",
       "             scoring='accuracy')"
      ]
     },
     "execution_count": 75,
     "metadata": {},
     "output_type": "execute_result"
    }
   ],
   "source": [
    "grid.fit(x_train, y_train)"
   ]
  },
  {
   "cell_type": "code",
   "execution_count": 76,
   "id": "b66d2baf-e4d4-47cf-b94f-f84a1c427e0e",
   "metadata": {},
   "outputs": [],
   "source": [
    "y_pred = grid.predict(x_test)"
   ]
  },
  {
   "cell_type": "code",
   "execution_count": 77,
   "id": "cd945cf5-8dba-4b8f-8b42-8c0d4b4099d3",
   "metadata": {},
   "outputs": [
    {
     "data": {
      "text/plain": [
       "0.7021072796934866"
      ]
     },
     "execution_count": 77,
     "metadata": {},
     "output_type": "execute_result"
    }
   ],
   "source": [
    "accuracy_score(y_test, y_pred)"
   ]
  },
  {
   "cell_type": "code",
   "execution_count": 78,
   "id": "ddca377a-0b31-47c4-9dcf-d11fd7aa3f35",
   "metadata": {},
   "outputs": [],
   "source": [
    "from sklearn.metrics import ConfusionMatrixDisplay, classification_report"
   ]
  },
  {
   "cell_type": "code",
   "execution_count": 79,
   "id": "8e4c11d3-63ef-4102-9b20-b9fcd2be9908",
   "metadata": {},
   "outputs": [
    {
     "data": {
      "image/png": "[encoded data removed]",
      "text/plain": [
       "<Figure size 640x480 with 2 Axes>"
      ]
     },
     "metadata": {},
     "output_type": "display_data"
    }
   ],
   "source": [
    "ConfusionMatrixDisplay.from_predictions(y_test,y_pred);"
   ]
  },
  {
   "cell_type": "code",
   "execution_count": 80,
   "id": "9f9486b5-ad24-4ce9-ab68-b5c6a15eba94",
   "metadata": {},
   "outputs": [
    {
     "name": "stdout",
     "output_type": "stream",
     "text": [
      "              precision    recall  f1-score   support\n",
      "\n",
      "          no       0.72      0.66      0.69      2088\n",
      "         yes       0.68      0.75      0.72      2088\n",
      "\n",
      "    accuracy                           0.70      4176\n",
      "   macro avg       0.70      0.70      0.70      4176\n",
      "weighted avg       0.70      0.70      0.70      4176\n",
      "\n"
     ]
    }
   ],
   "source": [
    "print(classification_report(y_test, y_pred))"
   ]
  },
  {
   "cell_type": "code",
   "execution_count": 81,
   "id": "0e05ae7d-eee9-4605-ae66-f376faadb242",
   "metadata": {},
   "outputs": [],
   "source": [
    "import joblib"
   ]
  },
  {
   "cell_type": "code",
   "execution_count": 82,
   "id": "3e13de64-0786-47cb-92a3-1cf82a17e279",
   "metadata": {},
   "outputs": [
    {
     "data": {
      "text/plain": [
       "['rf_classifier.pkl']"
      ]
     },
     "execution_count": 82,
     "metadata": {},
     "output_type": "execute_result"
    }
   ],
   "source": [
    "joblib.dump(grid, 'rf_classifier.pkl')"
   ]
  },
  {
   "cell_type": "code",
   "execution_count": 83,
   "id": "995ece09-e3dd-4549-855e-dd7c2dee003e",
   "metadata": {},
   "outputs": [
    {
     "name": "stdout",
     "output_type": "stream",
     "text": [
      "Model saved as rf_classifier.pkl\n"
     ]
    }
   ],
   "source": [
    "joblib.dump(rf, \"rf_classifier.pkl\")  # Save model as a .pkl file\n",
    "print(\"Model saved as rf_classifier.pkl\")"
   ]
  },
  {
   "cell_type": "code",
   "execution_count": 84,
   "id": "c6bfc366-98b0-4734-a564-fb37528b67a3",
   "metadata": {},
   "outputs": [
    {
     "name": "stdout",
     "output_type": "stream",
     "text": [
      "RandomForestClassifier(n_estimators=20, random_state=0)\n"
     ]
    }
   ],
   "source": [
    "print(rf)"
   ]
  },
  {
   "cell_type": "code",
   "execution_count": 98,
   "id": "4ec8cd72-0fac-477e-bdb4-96f203cd7d98",
   "metadata": {},
   "outputs": [
    {
     "name": "stdout",
     "output_type": "stream",
     "text": [
      "Model trained on features: ['Unnamed: 0' 'ChestXray_Oligaemic' 'Disease_TGA' 'Age_11-30_days'\n",
      " 'Age_4-10_days']\n"
     ]
    }
   ],
   "source": [
    "print(\"Model trained on features:\", rf.feature_names_in_)"
   ]
  },
  {
   "cell_type": "code",
   "execution_count": 86,
   "id": "60295067-a535-43df-af73-87bfdddae031",
   "metadata": {},
   "outputs": [
    {
     "name": "stdout",
     "output_type": "stream",
     "text": [
      "Test Data Columns: Index(['Unnamed: 0', 'BirthAsphyxia', 'HypDistrib', 'HypoxiaInO2', 'CO2',\n",
      "       'ChestXray', 'Grunting', 'LVHreport', 'LowerBodyO2', 'RUQO2',\n",
      "       'CO2Report', 'XrayReport', 'Disease', 'GruntingReport', 'Age', 'LVH',\n",
      "       'LungParench', 'LungFlow', 'Sick'],\n",
      "      dtype='object')\n",
      "Model Expected Features: ['Unnamed: 0' 'ChestXray_Oligaemic' 'Disease_TGA' 'Age_11-30_days'\n",
      " 'Age_4-10_days']\n"
     ]
    }
   ],
   "source": [
    "# Assuming `feature_names` holds the training feature names\n",
    "print(\"Test Data Columns:\", df.columns)\n",
    "print(\"Model Expected Features:\", rf.feature_names_in_)"
   ]
  },
  {
   "cell_type": "code",
   "execution_count": 87,
   "id": "3dd1f43f-eb46-4529-994d-3229eaa18b25",
   "metadata": {},
   "outputs": [
    {
     "data": {
      "text/plain": [
       "['feature_names.pkl']"
      ]
     },
     "execution_count": 87,
     "metadata": {},
     "output_type": "execute_result"
    }
   ],
   "source": [
    "feature_names = df.columns.tolist()  # Assuming df contains the training data with correct features\n",
    "joblib.dump(feature_names, \"feature_names.pkl\") "
   ]
  },
  {
   "cell_type": "code",
   "execution_count": 88,
   "id": "7e1a99e7-3285-473a-a599-f6e2d93171fb",
   "metadata": {},
   "outputs": [
    {
     "name": "stdout",
     "output_type": "stream",
     "text": [
      "Training Data Features: ['Unnamed: 0', 'ChestXray_Oligaemic', 'Disease_TGA', 'Age_11-30_days', 'Age_4-10_days']\n",
      "Feature names saved!\n"
     ]
    }
   ],
   "source": [
    "print(\"Training Data Features:\", list(x.columns))\n",
    "\n",
    "# Save features\n",
    "joblib.dump(list(x.columns), \"feature_names.pkl\")\n",
    "print(\"Feature names saved!\")"
   ]
  },
  {
   "cell_type": "code",
   "execution_count": 89,
   "id": "485a0b25-e736-40be-9340-ff444f12fb29",
   "metadata": {},
   "outputs": [
    {
     "data": {
      "text/plain": [
       "['feature_names.pkl']"
      ]
     },
     "execution_count": 89,
     "metadata": {},
     "output_type": "execute_result"
    }
   ],
   "source": [
    "joblib.dump(rf, \"rf_classifier.pkl\")\n",
    "joblib.dump(list(x.columns), \"feature_names.pkl\")\n"
   ]
  },
  {
   "cell_type": "code",
   "execution_count": 90,
   "id": "2b940b4b-12e5-41c9-a49a-56e01b89d4bd",
   "metadata": {},
   "outputs": [
    {
     "name": "stdout",
     "output_type": "stream",
     "text": [
      "Model type: <class 'sklearn.ensemble._forest.RandomForestClassifier'>\n"
     ]
    }
   ],
   "source": [
    "# Load the model\n",
    "rf = joblib.load(\"rf_classifier.pkl\")\n",
    "print(\"Model type:\", type(rf))"
   ]
  },
  {
   "cell_type": "code",
   "execution_count": 91,
   "id": "7e4da142-0cf5-48e1-9f5c-1d78d8f0ff0f",
   "metadata": {},
   "outputs": [
    {
     "name": "stdout",
     "output_type": "stream",
     "text": [
      "Available attributes in the model: ['__abstractmethods__', '__annotations__', '__class__', '__delattr__', '__dict__', '__dir__', '__doc__', '__eq__', '__format__', '__ge__', '__getattribute__', '__getitem__', '__getstate__', '__gt__', '__hash__', '__init__', '__init_subclass__', '__iter__', '__le__', '__len__', '__lt__', '__module__', '__ne__', '__new__', '__reduce__', '__reduce_ex__', '__repr__', '__setattr__', '__setstate__', '__sizeof__', '__sklearn_clone__', '__slotnames__', '__str__', '__subclasshook__', '__weakref__', '_abc_impl', '_build_request_for_signature', '_check_feature_names', '_check_n_features', '_compute_oob_predictions', '_doc_link_module', '_doc_link_template', '_doc_link_url_param_generator', '_estimator_type', '_get_default_requests', '_get_doc_link', '_get_estimators_indices', '_get_metadata_request', '_get_oob_predictions', '_get_param_names', '_get_tags', '_make_estimator', '_more_tags', '_n_samples', '_n_samples_bootstrap', '_parameter_constraints', '_repr_html_', '_repr_html_inner', '_repr_mimebundle_', '_required_parameters', '_set_oob_score_and_attributes', '_validate_X_predict', '_validate_data', '_validate_estimator', '_validate_params', '_validate_y_class_weight', 'apply', 'bootstrap', 'ccp_alpha', 'class_weight', 'classes_', 'criterion', 'decision_path', 'estimator', 'estimator_', 'estimator_params', 'estimators_', 'estimators_samples_', 'feature_importances_', 'feature_names_in_', 'fit', 'get_metadata_routing', 'get_params', 'max_depth', 'max_features', 'max_leaf_nodes', 'max_samples', 'min_impurity_decrease', 'min_samples_leaf', 'min_samples_split', 'min_weight_fraction_leaf', 'monotonic_cst', 'n_classes_', 'n_estimators', 'n_features_in_', 'n_jobs', 'n_outputs_', 'oob_score', 'predict', 'predict_log_proba', 'predict_proba', 'random_state', 'score', 'set_fit_request', 'set_params', 'set_score_request', 'verbose', 'warm_start']\n"
     ]
    }
   ],
   "source": [
    "# Check for available attributes\n",
    "print(\"Available attributes in the model:\", dir(rf))"
   ]
  },
  {
   "cell_type": "code",
   "execution_count": 92,
   "id": "b4e218d7-443d-49d4-8090-86183abfe2d2",
   "metadata": {},
   "outputs": [
    {
     "name": "stdout",
     "output_type": "stream",
     "text": [
      "Loaded feature names: ['Unnamed: 0', 'ChestXray_Oligaemic', 'Disease_TGA', 'Age_11-30_days', 'Age_4-10_days']\n"
     ]
    }
   ],
   "source": [
    "# If the model doesn't have feature_names_in_, use your saved feature names\n",
    "feature_names = joblib.load(\"feature_names.pkl\")\n",
    "print(\"Loaded feature names:\", feature_names)"
   ]
  },
  {
   "cell_type": "code",
   "execution_count": 93,
   "id": "72cd8435-6a5a-471c-bf58-972233239046",
   "metadata": {},
   "outputs": [
    {
     "name": "stdout",
     "output_type": "stream",
     "text": [
      "DataFrame columns: Index(['Unnamed: 0', 'BirthAsphyxia', 'HypDistrib', 'HypoxiaInO2', 'CO2',\n",
      "       'ChestXray', 'Grunting', 'LVHreport', 'LowerBodyO2', 'RUQO2',\n",
      "       'CO2Report', 'XrayReport', 'Disease', 'GruntingReport', 'Age', 'LVH',\n",
      "       'LungParench', 'LungFlow', 'Sick'],\n",
      "      dtype='object')\n",
      "Expected feature names: ['Unnamed: 0', 'ChestXray_Oligaemic', 'Disease_TGA', 'Age_11-30_days', 'Age_4-10_days']\n"
     ]
    }
   ],
   "source": [
    "# After loading the data and before predictions, print the columns of df\n",
    "print(\"DataFrame columns:\", df.columns)\n",
    "\n",
    "# Print the expected feature names (from training)\n",
    "print(\"Expected feature names:\", feature_names)"
   ]
  },
  {
   "cell_type": "code",
   "execution_count": 94,
   "id": "8e2fcf76-5107-43f8-a11e-0cb76f71fef0",
   "metadata": {},
   "outputs": [
    {
     "name": "stdout",
     "output_type": "stream",
     "text": [
      "Model, feature names, and scaler saved!\n"
     ]
    }
   ],
   "source": [
    "import joblib\n",
    "joblib.dump(skf.get_feature_names_out(), \"feature_names.pkl\")  # Save selected features\n",
    "joblib.dump(preprocessing.LabelEncoder(), \"scaler.pkl\")  # Save label encoder\n",
    "joblib.dump(rf, \"rf_classifier.pkl\")  # Save trained model\n",
    "print(\"Model, feature names, and scaler saved!\")\n"
   ]
  },
  {
   "cell_type": "code",
   "execution_count": 102,
   "id": "23d93c7b-84db-4877-bbed-00c303465221",
   "metadata": {},
   "outputs": [
    {
     "name": "stdout",
     "output_type": "stream",
     "text": [
      "Corrected feature names saved!\n"
     ]
    }
   ],
   "source": [
    "import joblib\n",
    "\n",
    "# Define the correct feature names\n",
    "correct_features = ['Unnamed: 0', 'ChestXray_Oligaemic', 'Disease_TGA', 'Age_11-30_days', 'Age_4-10_days']\n",
    "\n",
    "# Save the correct features again\n",
    "joblib.dump(correct_features, \"feature_names.pkl\")\n",
    "\n",
    "print(\"Corrected feature names saved!\")\n"
   ]
  },
  {
   "cell_type": "code",
   "execution_count": 103,
   "id": "0c6842e3-88f7-46a9-bcf9-5425502e2c71",
   "metadata": {},
   "outputs": [
    {
     "data": {
      "text/plain": [
       "['Unnamed: 0',\n",
       " 'ChestXray_Oligaemic',\n",
       " 'Disease_TGA',\n",
       " 'Age_11-30_days',\n",
       " 'Age_4-10_days']"
      ]
     },
     "execution_count": 103,
     "metadata": {},
     "output_type": "execute_result"
    }
   ],
   "source": [
    "correct_features"
   ]
  },
  {
   "cell_type": "code",
   "execution_count": 104,
   "id": "8542fbe3-f598-4246-8e62-35d18349a77a",
   "metadata": {},
   "outputs": [
    {
     "name": "stdout",
     "output_type": "stream",
     "text": [
      "Model expects these features: ['Unnamed: 0' 'ChestXray_Oligaemic' 'Disease_TGA' 'Age_11-30_days'\n",
      " 'Age_4-10_days']\n"
     ]
    }
   ],
   "source": [
    "import joblib\n",
    "\n",
    "# Load the trained model\n",
    "rf = joblib.load(\"rf_classifier.pkl\")\n",
    "\n",
    "# Print the features the model expects\n",
    "print(\"Model expects these features:\", rf.feature_names_in_)"
   ]
  },
  {
   "cell_type": "code",
   "execution_count": null,
   "id": "86077b7e-dfb6-46cb-8bd8-5cb19d775359",
   "metadata": {},
   "outputs": [],
   "source": []
  }
 ],
 "metadata": {
  "kernelspec": {
   "display_name": "Python 3 (ipykernel)",
   "language": "python",
   "name": "python3"
  },
  "language_info": {
   "codemirror_mode": {
    "name": "ipython",
    "version": 3
   },
   "file_extension": ".py",
   "mimetype": "text/x-python",
   "name": "python",
   "nbconvert_exporter": "python",
   "pygments_lexer": "ipython3",
   "version": "3.12.7"
  }
 },
 "nbformat": 4,
 "nbformat_minor": 5
}
