{
 "cells": [
  {
   "cell_type": "code",
   "execution_count": 1,
   "id": "a82424c4-c5b1-4595-a3c6-4d13be70e53a",
   "metadata": {},
   "outputs": [
    {
     "name": "stdout",
     "output_type": "stream",
     "text": [
      "Features saved in for_load_feature.ipynb: ['ChestXray_Oligaemic' 'XrayReport_Oligaemic' 'Disease_TGA'\n",
      " 'Age_11-30_days' 'Age_4-10_days']\n"
     ]
    }
   ],
   "source": [
    "import joblib\n",
    "\n",
    "# Load saved feature names\n",
    "feature_names = joblib.load(\"feature_names.pkl\")\n",
    "\n",
    "print(\"Features saved in for_load_feature.ipynb:\", feature_names)\n"
   ]
  },
  {
   "cell_type": "code",
   "execution_count": 2,
   "id": "740dd9bb-185d-474a-a5bb-e14d27b4ebde",
   "metadata": {},
   "outputs": [
    {
     "name": "stdout",
     "output_type": "stream",
     "text": [
      "Feature Names: ['ChestXray_Oligaemic' 'XrayReport_Oligaemic' 'Disease_TGA'\n",
      " 'Age_11-30_days' 'Age_4-10_days']\n"
     ]
    }
   ],
   "source": [
    "import pickle\n",
    "\n",
    "# Load the file\n",
    "with open(\"feature_names.pkl\", \"rb\") as file:\n",
    "    feature_names = pickle.load(file)\n",
    "\n",
    "print(\"Feature Names:\", feature_names)"
   ]
  },
  {
   "cell_type": "code",
   "execution_count": 3,
   "id": "bf515131-1446-4735-b9f6-9538bfa36ed2",
   "metadata": {},
   "outputs": [
    {
     "name": "stdout",
     "output_type": "stream",
     "text": [
      "['ChestXray_Oligaemic' 'XrayReport_Oligaemic' 'Disease_TGA'\n",
      " 'Age_11-30_days' 'Age_4-10_days']\n"
     ]
    }
   ],
   "source": [
    "print(joblib.load(\"feature_names.pkl\"))"
   ]
  },
  {
   "cell_type": "code",
   "execution_count": null,
   "id": "a073ad10-ae45-4d45-89f2-47407144978d",
   "metadata": {},
   "outputs": [],
   "source": []
  }
 ],
 "metadata": {
  "kernelspec": {
   "display_name": "Python 3 (ipykernel)",
   "language": "python",
   "name": "python3"
  },
  "language_info": {
   "codemirror_mode": {
    "name": "ipython",
    "version": 3
   },
   "file_extension": ".py",
   "mimetype": "text/x-python",
   "name": "python",
   "nbconvert_exporter": "python",
   "pygments_lexer": "ipython3",
   "version": "3.12.7"
  }
 },
 "nbformat": 4,
 "nbformat_minor": 5
}
